{
 "cells": [
  {
   "cell_type": "code",
   "execution_count": 11,
   "id": "718d380c-8c4e-42e4-b2c6-11fbb382006d",
   "metadata": {},
   "outputs": [
    {
     "data": {
      "text/html": [
       "<table border=\"1\" class=\"dataframe\">\n",
       "  <thead>\n",
       "    <tr style=\"text-align: right;\">\n",
       "      <th></th>\n",
       "      <th>SITE</th>\n",
       "      <th>TITLE</th>\n",
       "      <th>HID</th>\n",
       "      <th>TOUR</th>\n",
       "      <th>TOURNO</th>\n",
       "      <th>HIVETABLE</th>\n",
       "      <th>BUYIN</th>\n",
       "      <th>BIAMT</th>\n",
       "      <th>BIRAKE</th>\n",
       "      <th>BOUNTY</th>\n",
       "      <th>TOUR_ISO</th>\n",
       "      <th>MIXED</th>\n",
       "      <th>SPLIT</th>\n",
       "      <th>GAME</th>\n",
       "      <th>LIMIT</th>\n",
       "      <th>SHOOTOUT</th>\n",
       "      <th>LEVEL</th>\n",
       "      <th>CURRENCY</th>\n",
       "      <th>SB</th>\n",
       "      <th>BB</th>\n",
       "      <th>CURRENCY1</th>\n",
       "      <th>BUB</th>\n",
       "      <th>CAP</th>\n",
       "      <th>CAPAMT</th>\n",
       "      <th>ISO</th>\n",
       "      <th>BLAH2</th>\n",
       "      <th>DATETIME</th>\n",
       "    </tr>\n",
       "  </thead>\n",
       "  <tbody>\n",
       "    <tr>\n",
       "      <th>0</th>\n",
       "      <td>PokerStars</td>\n",
       "      <td>Hand</td>\n",
       "      <td>242207161368</td>\n",
       "      <td>None</td>\n",
       "      <td>None</td>\n",
       "      <td>None</td>\n",
       "      <td>None</td>\n",
       "      <td>None</td>\n",
       "      <td>None</td>\n",
       "      <td>None</td>\n",
       "      <td>None</td>\n",
       "      <td>None</td>\n",
       "      <td>None</td>\n",
       "      <td>Fusion</td>\n",
       "      <td>Pot Limit</td>\n",
       "      <td>None</td>\n",
       "      <td>None</td>\n",
       "      <td>€</td>\n",
       "      <td>0.01</td>\n",
       "      <td>0.02</td>\n",
       "      <td>None</td>\n",
       "      <td>None</td>\n",
       "      <td>None</td>\n",
       "      <td>None</td>\n",
       "      <td>EUR</td>\n",
       "      <td>None</td>\n",
       "      <td>2023/03/03 20:38:34 CET [2023/03/03 14:38:34 ET]</td>\n",
       "    </tr>\n",
       "  </tbody>\n",
       "</table>"
      ],
      "text/plain": [
       "<IPython.core.display.HTML object>"
      ]
     },
     "metadata": {},
     "output_type": "display_data"
    }
   ],
   "source": [
    "import re\n",
    "import pandas as pd\n",
    "import numpy as np\n",
    "from IPython.display import display, HTML\n",
    "\n",
    "test = \"\"\"PokerStars Hand #242207161368:  Fusion Pot Limit (€0.01/€0.02 EUR) - 2023/03/03 20:38:34 CET [2023/03/03 14:38:34 ET]\n",
    "Table 'Baetsle III' 6-max Seat #3 is the button\n",
    "Seat 2: jeje_sat (€2 in chips) \n",
    "Seat 3: MERGUEZ-3510 (€2.98 in chips) \n",
    "Seat 5: joconde421 (€1.85 in chips) \n",
    "joconde421: posts small blind €0.01\n",
    "jeje_sat: posts big blind €0.02\n",
    "*** HOLE CARDS ***\n",
    "Dealt to jeje_sat [6h Jh]\n",
    "MERGUEZ-3510: folds \n",
    "joconde421: calls €0.01\n",
    "jopatate07 leaves the table\n",
    "jeje_sat: checks \n",
    "*** FLOP *** [Qs 9c Jd]\n",
    "Dealt to jeje_sat [6h Jh] [5c]\n",
    "joconde421: checks \n",
    "jeje_sat: checks \n",
    "*** TURN *** [Qs 9c Jd] [4c]\n",
    "Dealt to jeje_sat [6h Jh 5c] [3d]\n",
    "joconde421: checks \n",
    "jeje_sat: checks \n",
    "*** RIVER *** [Qs 9c Jd 4c] [2c]\n",
    "joconde421: checks \n",
    "Amir2800 joins the table at seat #4 \n",
    "jeje_sat: checks \n",
    "*** SHOW DOWN ***\n",
    "joconde421: shows [Qc 8h Ah 6s] (a pair of Queens)\n",
    "jeje_sat: mucks hand \n",
    "joconde421 collected €0.04 from pot\n",
    "*** SUMMARY ***\n",
    "Total pot €0.04 | Rake €0 \n",
    "Board [Qs 9c Jd 4c 2c]\n",
    "Seat 2: jeje_sat (big blind) mucked [6h Jh 5c 3d]\n",
    "Seat 3: MERGUEZ-3510 (button) folded before Flop (didn't bet)\n",
    "Seat 5: joconde421 (small blind) showed [Qc 8h Ah 6s] and won (€0.04) with a pair of Queens\"\"\"\n",
    "    \n",
    "\n",
    "substitutions = {\n",
    "                     'LEGAL_ISO' : \"USD|EUR|GBP|CAD|FPP|SC|INR|CNY\",      # legal ISO currency codes\n",
    "                            'LS' : u\"\\$|\\xe2\\x82\\xac|\\u20ac|\\£|\\u20b9|\\¥|\", # legal currency symbols - Euro(cp1252, utf-8)\n",
    "                           'PLYR': r'\\s?(?P<PNAME>.+?)',\n",
    "                            'CUR': u\"(\\$|\\xe2\\x82\\xac|\\u20ac|€|\\£|\\u20b9|\\¥|)\",\n",
    "                          'BRKTS': r'(\\(button\\) |\\(small blind\\) |\\(big blind\\) |\\(button blind\\) |\\(button\\) \\(small blind\\) |\\(small blind\\) \\(button\\) |\\(big blind\\) \\(button\\) |\\(small blind/button\\) |\\(button\\) \\(big blind\\) )?',\n",
    "                    }\n",
    "\n",
    "re_GameInfo = re.compile(u\"\"\"(?P<SITE>PokerStars|POKERSTARS|Hive\\sPoker|Full\\sTilt|PokerMaster|Run\\sIt\\sOnce\\sPoker|BetOnline|PokerBros)(?P<TITLE>\\sGame|\\sHand|\\sHome\\sGame|\\sHome\\sGame\\sHand|Game|\\s(Zoom|Rush)\\sHand|\\sGAME)\\s\\#(?P<HID>[0-9]+):\\s+\n",
    "          (\\{.*\\}\\s+)?((?P<TOUR>((Zoom|Rush)\\s)?(Tournament|TOURNAMENT))\\s\\#                # open paren of tournament info\n",
    "          (?P<TOURNO>\\d+),\\s(Table\\s\\#(?P<HIVETABLE>\\d+),\\s)?\n",
    "          # here's how I plan to use LS\n",
    "          (?P<BUYIN>(?P<BIAMT>[%(LS)s\\d\\.]+)?\\+?(?P<BIRAKE>[%(LS)s\\d\\.]+)?\\+?(?P<BOUNTY>[%(LS)s\\d\\.]+)?\\s?(?P<TOUR_ISO>%(LEGAL_ISO)s)?|Freeroll|)(\\s+)?(-\\s)?\n",
    "          (\\s.+?,)?\n",
    "          )?\n",
    "          # close paren of tournament info\n",
    "          (?P<MIXED>HORSE|8\\-Game|8\\-GAME|HOSE|Mixed\\sOmaha\\sH/L|Mixed\\sHold\\'em|Mixed\\sPLH/PLO|Mixed\\sNLH/PLO|Mixed\\sOmaha|Triple\\sStud)?\\s?\\(?\n",
    "          (?P<SPLIT>Split)?\\s?\n",
    "          (?P<GAME>Hold\\'em|HOLD\\'EM|Hold\\'em|6\\+\\sHold\\'em|Razz|RAZZ|Fusion|7\\sCard\\sStud|7\\sCARD\\sSTUD|7\\sCard\\sStud\\sHi/Lo|7\\sCARD\\sSTUD\\sHI/LO|Omaha|OMAHA|Omaha\\sHi/Lo|OMAHA\\sHI/LO|Badugi|Triple\\sDraw\\s2\\-7\\sLowball|Single\\sDraw\\s2\\-7\\sLowball|5\\sCard\\sDraw|(5|6)\\sCard\\sOmaha(\\sHi/Lo)?|Courchevel(\\sHi/Lo)?)\\s\n",
    "          (?P<LIMIT>No\\sLimit|NO\\sLIMIT|Fixed\\sLimit|Limit|LIMIT|Pot\\sLimit|POT\\sLIMIT|Pot\\sLimit\\sPre\\-Flop,\\sNo\\sLimit\\sPost\\-Flop)\\)?,?\\s\n",
    "          (-\\s)?\n",
    "          (?P<SHOOTOUT>Match.*,\\s)?\n",
    "          ((Level|LEVEL)\\s(?P<LEVEL>[IVXLC\\d]+)\\s)?\n",
    "          \\(?                            # open paren of the stakes\n",
    "          (?P<CURRENCY>%(LS)s|)?\n",
    "          (ante\\s\\d+,\\s)?\n",
    "          ((?P<SB>[.0-9]+)/(%(LS)s)?(?P<BB>[.0-9]+)|Button\\sBlind\\s(?P<CURRENCY1>%(LS)s|)(?P<BUB>[.0-9]+)\\s\\-\\sAnte\\s(%(LS)s)?[.0-9]+\\s)\n",
    "          (?P<CAP>\\s-\\s[%(LS)s]?(?P<CAPAMT>[.0-9]+)\\sCap\\s-\\s)?        # Optional Cap part\n",
    "          \\s?(?P<ISO>%(LEGAL_ISO)s)?\n",
    "          \\)                        # close paren of the stakes\n",
    "          (?P<BLAH2>\\s\\[AAMS\\sID:\\s[A-Z0-9]+\\])?         # AAMS ID: in .it HH's\n",
    "          \\s-\\s\n",
    "          (?P<DATETIME>.*$)  \"\"\" %  substitutions, re.MULTILINE|re.VERBOSE)\n",
    "\n",
    "m = re_GameInfo.search(test)\n",
    "if m != None:\n",
    "\n",
    "    mg = m.groupdict()\n",
    "\n",
    "    df = pd.DataFrame.from_dict(mg, orient='index')\n",
    "    df = df.transpose()\n",
    "    display(HTML(df.to_html()))"
   ]
  },
  {
   "cell_type": "code",
   "execution_count": null,
   "id": "4d73dd60-695c-4575-917d-9d3c4b1d4417",
   "metadata": {},
   "outputs": [],
   "source": []
  },
  {
   "cell_type": "code",
   "execution_count": 12,
   "id": "20e889ff-5491-4d92-a792-d57a512d1ad1",
   "metadata": {},
   "outputs": [
    {
     "data": {
      "text/html": [
       "<table border=\"1\" class=\"dataframe\">\n",
       "  <thead>\n",
       "    <tr style=\"text-align: right;\">\n",
       "      <th></th>\n",
       "      <th>SITE</th>\n",
       "      <th>TITLE</th>\n",
       "      <th>HID</th>\n",
       "      <th>TOUR</th>\n",
       "      <th>TOURNO</th>\n",
       "      <th>HIVETABLE</th>\n",
       "      <th>BUYIN</th>\n",
       "      <th>BIAMT</th>\n",
       "      <th>BIRAKE</th>\n",
       "      <th>BOUNTY</th>\n",
       "      <th>TOUR_ISO</th>\n",
       "      <th>MIXED</th>\n",
       "      <th>SPLIT</th>\n",
       "      <th>GAME</th>\n",
       "      <th>LIMIT</th>\n",
       "      <th>SHOOTOUT</th>\n",
       "      <th>LEVEL</th>\n",
       "      <th>CURRENCY</th>\n",
       "      <th>SB</th>\n",
       "      <th>BB</th>\n",
       "      <th>CURRENCY1</th>\n",
       "      <th>BUB</th>\n",
       "      <th>CAP</th>\n",
       "      <th>CAPAMT</th>\n",
       "      <th>ISO</th>\n",
       "      <th>BLAH2</th>\n",
       "      <th>DATETIME</th>\n",
       "    </tr>\n",
       "  </thead>\n",
       "  <tbody>\n",
       "    <tr>\n",
       "      <th>0</th>\n",
       "      <td>PokerStars</td>\n",
       "      <td>Hand</td>\n",
       "      <td>242207161368</td>\n",
       "      <td>None</td>\n",
       "      <td>None</td>\n",
       "      <td>None</td>\n",
       "      <td>None</td>\n",
       "      <td>None</td>\n",
       "      <td>None</td>\n",
       "      <td>None</td>\n",
       "      <td>None</td>\n",
       "      <td>None</td>\n",
       "      <td>None</td>\n",
       "      <td>Fusion</td>\n",
       "      <td>Pot Limit</td>\n",
       "      <td>None</td>\n",
       "      <td>None</td>\n",
       "      <td>€</td>\n",
       "      <td>0.01</td>\n",
       "      <td>0.02</td>\n",
       "      <td>None</td>\n",
       "      <td>None</td>\n",
       "      <td>None</td>\n",
       "      <td>None</td>\n",
       "      <td>EUR</td>\n",
       "      <td>None</td>\n",
       "      <td>2023/03/03 20:38:34 CET [2023/03/03 14:38:34 ET]</td>\n",
       "    </tr>\n",
       "  </tbody>\n",
       "</table>"
      ],
      "text/plain": [
       "<IPython.core.display.HTML object>"
      ]
     },
     "metadata": {},
     "output_type": "display_data"
    }
   ],
   "source": [
    "re_PlayerInfo = re.compile(u\"\"\"\\s?Seat\\s(?P<SEAT>[0-9]+):\\s\n",
    "          (?P<PNAME>.*)\\s\n",
    "          \\((%(LS)s)?(?P<CASH>[,.0-9]+)\\sin\\schips\n",
    "          (,\\s(%(LS)s)?(?P<BOUNTY>[,.0-9]+)\\sbounty)?\n",
    "          \\)\n",
    "          (?P<SITOUT>\\sis\\ssitting\\sout)?  \"\"\" %  substitutions, re.MULTILINE|re.VERBOSE)\n",
    "\n",
    "\n",
    "if m != None:\n",
    "    \n",
    "    mg = m.groupdict()\n",
    "\n",
    "    df = pd.DataFrame.from_dict(mg, orient='index')\n",
    "    df = df.transpose()\n",
    "    display(HTML(df.to_html()))\n",
    "\n"
   ]
  },
  {
   "cell_type": "code",
   "execution_count": 13,
   "id": "fe4c4271-2a35-42bf-8547-8326f570729b",
   "metadata": {},
   "outputs": [
    {
     "data": {
      "text/html": [
       "<table border=\"1\" class=\"dataframe\">\n",
       "  <thead>\n",
       "    <tr style=\"text-align: right;\">\n",
       "      <th></th>\n",
       "      <th>TABLE</th>\n",
       "      <th>MAX</th>\n",
       "      <th>PLAY</th>\n",
       "      <th>BUTTON</th>\n",
       "    </tr>\n",
       "  </thead>\n",
       "  <tbody>\n",
       "    <tr>\n",
       "      <th>0</th>\n",
       "      <td>Baetsle III</td>\n",
       "      <td>6</td>\n",
       "      <td>None</td>\n",
       "      <td>3</td>\n",
       "    </tr>\n",
       "  </tbody>\n",
       "</table>"
      ],
      "text/plain": [
       "<IPython.core.display.HTML object>"
      ]
     },
     "metadata": {},
     "output_type": "display_data"
    }
   ],
   "source": [
    "re_HandInfo = re.compile(u\"\"\"\\s?Table\\s(ID\\s)?\\'(?P<TABLE>.+?)\\'\\s\n",
    "          ((?P<MAX>\\d+)-[Mm]ax\\s)?\n",
    "          (?P<PLAY>\\(Play\\sMoney\\)\\s)?\n",
    "          (Seat\\s\\#(?P<BUTTON>\\d+)\\sis\\sthe\\sbutton)?  \"\"\" %  substitutions, re.MULTILINE|re.VERBOSE)\n",
    "\n",
    "m = re_HandInfo.search(test)\n",
    "if m != None:\n",
    "\n",
    "    mg = m.groupdict()\n",
    "\n",
    "    df = pd.DataFrame.from_dict(mg, orient='index')\n",
    "    df = df.transpose()\n",
    "    display(HTML(df.to_html()))"
   ]
  },
  {
   "cell_type": "code",
   "execution_count": 14,
   "id": "92d559c7-aee9-486c-8f40-0f8f312f31af",
   "metadata": {},
   "outputs": [
    {
     "data": {
      "text/html": [
       "<table border=\"1\" class=\"dataframe\">\n",
       "  <thead>\n",
       "    <tr style=\"text-align: right;\">\n",
       "      <th></th>\n",
       "      <th>SITE</th>\n",
       "      <th>TITLE</th>\n",
       "      <th>HID</th>\n",
       "      <th>TOUR</th>\n",
       "      <th>TOURNO</th>\n",
       "      <th>HIVETABLE</th>\n",
       "      <th>BUYIN</th>\n",
       "      <th>BIAMT</th>\n",
       "      <th>BIRAKE</th>\n",
       "      <th>BOUNTY</th>\n",
       "      <th>TOUR_ISO</th>\n",
       "      <th>MIXED</th>\n",
       "      <th>SPLIT</th>\n",
       "      <th>GAME</th>\n",
       "      <th>LIMIT</th>\n",
       "      <th>SHOOTOUT</th>\n",
       "      <th>LEVEL</th>\n",
       "      <th>CURRENCY</th>\n",
       "      <th>SB</th>\n",
       "      <th>BB</th>\n",
       "      <th>CURRENCY1</th>\n",
       "      <th>BUB</th>\n",
       "      <th>CAP</th>\n",
       "      <th>CAPAMT</th>\n",
       "      <th>ISO</th>\n",
       "      <th>BLAH2</th>\n",
       "      <th>DATETIME</th>\n",
       "    </tr>\n",
       "  </thead>\n",
       "  <tbody>\n",
       "    <tr>\n",
       "      <th>0</th>\n",
       "      <td>PokerStars</td>\n",
       "      <td>Hand</td>\n",
       "      <td>242207161368</td>\n",
       "      <td>None</td>\n",
       "      <td>None</td>\n",
       "      <td>None</td>\n",
       "      <td>None</td>\n",
       "      <td>None</td>\n",
       "      <td>None</td>\n",
       "      <td>None</td>\n",
       "      <td>None</td>\n",
       "      <td>None</td>\n",
       "      <td>None</td>\n",
       "      <td>Fusion</td>\n",
       "      <td>Pot Limit</td>\n",
       "      <td>None</td>\n",
       "      <td>None</td>\n",
       "      <td>€</td>\n",
       "      <td>0.01</td>\n",
       "      <td>0.02</td>\n",
       "      <td>None</td>\n",
       "      <td>None</td>\n",
       "      <td>None</td>\n",
       "      <td>None</td>\n",
       "      <td>EUR</td>\n",
       "      <td>None</td>\n",
       "      <td>2023/03/03 20:38:34 CET [2023/03/03 14:38:34 ET]</td>\n",
       "    </tr>\n",
       "  </tbody>\n",
       "</table>"
      ],
      "text/plain": [
       "<IPython.core.display.HTML object>"
      ]
     },
     "metadata": {},
     "output_type": "display_data"
    }
   ],
   "source": [
    "re_Identify = re.compile(u\"\"\"(PokerStars|POKERSTARS|Hive\\sPoker|Full\\sTilt|PokerMaster|Run\\sIt\\sOnce\\sPoker|BetOnline|PokerBros)(\\sGame|\\sHand|\\sHome\\sGame|\\sHome\\sGame\\sHand|Game|\\s(Zoom|Rush)\\sHand|\\sGAME)\\s\\#\\d+: \"\"\" %  substitutions, re.MULTILINE|re.VERBOSE)\n",
    "\n",
    "m = re_GameInfo.search(test)\n",
    "if m != None:\n",
    "\n",
    "    mg = m.groupdict()\n",
    "\n",
    "    df = pd.DataFrame.from_dict(mg, orient='index')\n",
    "    df = df.transpose()\n",
    "    display(HTML(df.to_html()))"
   ]
  },
  {
   "cell_type": "code",
   "execution_count": 15,
   "id": "e03fe43e-8eaf-4af9-915d-001906965189",
   "metadata": {},
   "outputs": [
    {
     "data": {
      "text/html": [
       "<table border=\"1\" class=\"dataframe\">\n",
       "  <thead>\n",
       "    <tr style=\"text-align: right;\">\n",
       "      <th></th>\n",
       "      <th>BUTTON</th>\n",
       "    </tr>\n",
       "  </thead>\n",
       "  <tbody>\n",
       "    <tr>\n",
       "      <th>0</th>\n",
       "      <td>3</td>\n",
       "    </tr>\n",
       "  </tbody>\n",
       "</table>"
      ],
      "text/plain": [
       "<IPython.core.display.HTML object>"
      ]
     },
     "metadata": {},
     "output_type": "display_data"
    }
   ],
   "source": [
    "re_Button = re.compile(u\"\"\"Seat\\s\\#(?P<BUTTON>\\d+)\\sis\\sthe\\sbutton\n",
    "                        \"\"\" %  substitutions, re.MULTILINE|re.VERBOSE)\n",
    "\n",
    "m = re_Button.search(test)\n",
    "if m != None:\n",
    "\n",
    "    mg = m.groupdict()\n",
    "\n",
    "    df = pd.DataFrame.from_dict(mg, orient='index')\n",
    "    df = df.transpose()\n",
    "    display(HTML(df.to_html()))"
   ]
  },
  {
   "cell_type": "code",
   "execution_count": 16,
   "id": "d039f130-ae25-4055-bcca-57eaf500ac54",
   "metadata": {},
   "outputs": [
    {
     "data": {
      "text/html": [
       "<table border=\"1\" class=\"dataframe\">\n",
       "  <thead>\n",
       "    <tr style=\"text-align: right;\">\n",
       "      <th></th>\n",
       "      <th>CARDS</th>\n",
       "    </tr>\n",
       "  </thead>\n",
       "  <tbody>\n",
       "    <tr>\n",
       "      <th>0</th>\n",
       "      <td>2023/03/03 14:38:34 ET</td>\n",
       "    </tr>\n",
       "  </tbody>\n",
       "</table>"
      ],
      "text/plain": [
       "<IPython.core.display.HTML object>"
      ]
     },
     "metadata": {},
     "output_type": "display_data"
    }
   ],
   "source": [
    "re_Board = re.compile(u\"\"\"\\[(?P<CARDS>.+)\\]\n",
    "                        \"\"\" %  substitutions, re.MULTILINE|re.VERBOSE)\n",
    "\n",
    "m = re_Board.search(test)\n",
    "if m != None:\n",
    "\n",
    "    mg = m.groupdict()\n",
    "\n",
    "    df = pd.DataFrame.from_dict(mg, orient='index')\n",
    "    df = df.transpose()\n",
    "    display(HTML(df.to_html()))"
   ]
  },
  {
   "cell_type": "code",
   "execution_count": 17,
   "id": "237fd70d-d693-4b2a-b7e3-e63146430729",
   "metadata": {},
   "outputs": [],
   "source": [
    "re_Board2       = re.compile(r\"\\[(?P<C1>\\S\\S)\\] \\[(\\S\\S)?(?P<C2>\\S\\S) (?P<C3>\\S\\S)\\]\")\n",
    "\n",
    "m = re_Board2.search(test)\n",
    "if m != None:\n",
    "\n",
    "    mg = m.groupdict()\n",
    "\n",
    "    df = pd.DataFrame.from_dict(mg, orient='index')\n",
    "    df = df.transpose()\n",
    "    display(HTML(df.to_html()))"
   ]
  },
  {
   "cell_type": "code",
   "execution_count": 18,
   "id": "2ffa99ce-54c8-4adb-b710-1cc5232b55b5",
   "metadata": {},
   "outputs": [
    {
     "data": {
      "text/html": [
       "<table border=\"1\" class=\"dataframe\">\n",
       "  <thead>\n",
       "    <tr style=\"text-align: right;\">\n",
       "      <th></th>\n",
       "      <th>Y</th>\n",
       "      <th>M</th>\n",
       "      <th>D</th>\n",
       "      <th>H</th>\n",
       "      <th>MIN</th>\n",
       "      <th>S</th>\n",
       "    </tr>\n",
       "  </thead>\n",
       "  <tbody>\n",
       "    <tr>\n",
       "      <th>0</th>\n",
       "      <td>2023</td>\n",
       "      <td>03</td>\n",
       "      <td>03</td>\n",
       "      <td>20</td>\n",
       "      <td>38</td>\n",
       "      <td>34</td>\n",
       "    </tr>\n",
       "  </tbody>\n",
       "</table>"
      ],
      "text/plain": [
       "<IPython.core.display.HTML object>"
      ]
     },
     "metadata": {},
     "output_type": "display_data"
    }
   ],
   "source": [
    "re_DateTime1 = re.compile(u\"\"\"(?P<Y>[0-9]{4})\\/(?P<M>[0-9]{2})\\/(?P<D>[0-9]{2})[\\- ]+(?P<H>[0-9]+):(?P<MIN>[0-9]+):(?P<S>[0-9]+)\n",
    "                        \"\"\" %  substitutions, re.MULTILINE|re.VERBOSE)\n",
    "\n",
    "m = re_DateTime1.search(test)\n",
    "if m != None:\n",
    "\n",
    "    mg = m.groupdict()\n",
    "\n",
    "    df = pd.DataFrame.from_dict(mg, orient='index')\n",
    "    df = df.transpose()\n",
    "    display(HTML(df.to_html()))"
   ]
  },
  {
   "cell_type": "code",
   "execution_count": 19,
   "id": "daf40c58-4740-4957-b00f-470fa85493d9",
   "metadata": {},
   "outputs": [
    {
     "data": {
      "text/html": [
       "<table border=\"1\" class=\"dataframe\">\n",
       "  <thead>\n",
       "    <tr style=\"text-align: right;\">\n",
       "      <th></th>\n",
       "      <th>Y</th>\n",
       "      <th>M</th>\n",
       "      <th>D</th>\n",
       "      <th>H</th>\n",
       "      <th>MIN</th>\n",
       "    </tr>\n",
       "  </thead>\n",
       "  <tbody>\n",
       "    <tr>\n",
       "      <th>0</th>\n",
       "      <td>2023</td>\n",
       "      <td>03</td>\n",
       "      <td>03</td>\n",
       "      <td>20</td>\n",
       "      <td>38</td>\n",
       "    </tr>\n",
       "  </tbody>\n",
       "</table>"
      ],
      "text/plain": [
       "<IPython.core.display.HTML object>"
      ]
     },
     "metadata": {},
     "output_type": "display_data"
    }
   ],
   "source": [
    "re_DateTime2 = re.compile(u\"\"\"(?P<Y>[0-9]{4})\\/(?P<M>[0-9]{2})\\/(?P<D>[0-9]{2})[\\- ]+(?P<H>[0-9]+):(?P<MIN>[0-9]+)\n",
    "                        \"\"\" %  substitutions, re.MULTILINE|re.VERBOSE)\n",
    "\n",
    "m = re_DateTime2.search(test)\n",
    "if m != None:\n",
    "\n",
    "    mg = m.groupdict()\n",
    "\n",
    "    df = pd.DataFrame.from_dict(mg, orient='index')\n",
    "    df = df.transpose()\n",
    "    display(HTML(df.to_html()))"
   ]
  },
  {
   "cell_type": "code",
   "execution_count": 20,
   "id": "2e6ceb5e-8c87-4f49-a7fb-e80eea087677",
   "metadata": {},
   "outputs": [
    {
     "data": {
      "text/html": [
       "<table border=\"1\" class=\"dataframe\">\n",
       "  <thead>\n",
       "    <tr style=\"text-align: right;\">\n",
       "      <th></th>\n",
       "      <th>PNAME</th>\n",
       "      <th>ATYPE</th>\n",
       "      <th>BET</th>\n",
       "      <th>BETTO</th>\n",
       "      <th>CARDS</th>\n",
       "    </tr>\n",
       "  </thead>\n",
       "  <tbody>\n",
       "    <tr>\n",
       "      <th>0</th>\n",
       "      <td>MERGUEZ-3510</td>\n",
       "      <td>folds</td>\n",
       "      <td>None</td>\n",
       "      <td>None</td>\n",
       "      <td>None</td>\n",
       "    </tr>\n",
       "  </tbody>\n",
       "</table>"
      ],
      "text/plain": [
       "<IPython.core.display.HTML object>"
      ]
     },
     "metadata": {},
     "output_type": "display_data"
    }
   ],
   "source": [
    "re_Action = re.compile(u\"\"\"%(PLYR)s:(?P<ATYPE>\\sbets|\\schecks|\\sraises|\\scalls|\\sfolds|\\sdiscards|\\sstands\\spat)\n",
    "                        (\\s%(CUR)s(?P<BET>[,.\\d]+))?(\\sto\\s%(CUR)s(?P<BETTO>[,.\\d]+))?  # the number discarded goes in <BET>\n",
    "                        \\s*(and\\sis\\sall.in)?\n",
    "                        (and\\shas\\sreached\\sthe\\s[%(CUR)s\\d\\.,]+\\scap)?\n",
    "                        (\\son|\\scards?)?\n",
    "                        (\\s\\(disconnect\\))?\n",
    "                        (\\s\\[(?P<CARDS>.+?)\\])?\\s*$\n",
    "                        \"\"\" %  substitutions, re.MULTILINE|re.VERBOSE)\n",
    "\n",
    "m = re_Action.search(test)\n",
    "if m != None:\n",
    "\n",
    "    mg = m.groupdict()\n",
    "\n",
    "    df = pd.DataFrame.from_dict(mg, orient='index')\n",
    "    df = df.transpose()\n",
    "    display(HTML(df.to_html()))"
   ]
  },
  {
   "cell_type": "code",
   "execution_count": 24,
   "id": "6f2e795a-55ab-4090-8867-9a1fbc07f2aa",
   "metadata": {},
   "outputs": [
    {
     "data": {
      "text/html": [
       "<table border=\"1\" class=\"dataframe\">\n",
       "  <thead>\n",
       "    <tr style=\"text-align: right;\">\n",
       "      <th></th>\n",
       "      <th>PNAME</th>\n",
       "      <th>CARDS</th>\n",
       "    </tr>\n",
       "  </thead>\n",
       "  <tbody>\n",
       "    <tr>\n",
       "      <th>0</th>\n",
       "      <td>joconde421</td>\n",
       "      <td>Qc 8h Ah 6s</td>\n",
       "    </tr>\n",
       "  </tbody>\n",
       "</table>"
      ],
      "text/plain": [
       "<IPython.core.display.HTML object>"
      ]
     },
     "metadata": {},
     "output_type": "display_data"
    }
   ],
   "source": [
    "re_ShowdownAction = re.compile(u\"\"\"%s: (shows|mucks|mucked|showed) \\[(?P<CARDS>.*)\\]\"\"\" % substitutions['PLYR'], re.MULTILINE)\n",
    "#m = re_ShowdownAction.search(test)\n",
    "for shows in re_ShowdownAction.finditer(test):            \n",
    "    \n",
    "    \n",
    "    if shows != None:\n",
    "\n",
    "        mg = shows.groupdict()\n",
    "\n",
    "        df = pd.DataFrame.from_dict(mg, orient='index')\n",
    "        df = df.transpose()\n",
    "        display(HTML(df.to_html()))"
   ]
  },
  {
   "cell_type": "code",
   "execution_count": 25,
   "id": "a1b72cc3-79f8-4919-9216-ca7b7041d135",
   "metadata": {},
   "outputs": [
    {
     "data": {
      "text/html": [
       "<table border=\"1\" class=\"dataframe\">\n",
       "  <thead>\n",
       "    <tr style=\"text-align: right;\">\n",
       "      <th></th>\n",
       "      <th>SEAT</th>\n",
       "      <th>PNAME</th>\n",
       "      <th>POT</th>\n",
       "    </tr>\n",
       "  </thead>\n",
       "  <tbody>\n",
       "    <tr>\n",
       "      <th>0</th>\n",
       "      <td>5</td>\n",
       "      <td>joconde421</td>\n",
       "      <td>0.04</td>\n",
       "    </tr>\n",
       "  </tbody>\n",
       "</table>"
      ],
      "text/plain": [
       "<IPython.core.display.HTML object>"
      ]
     },
     "metadata": {},
     "output_type": "display_data"
    }
   ],
   "source": [
    "re_CollectPot = re.compile(u\"Seat (?P<SEAT>[0-9]+): %(PLYR)s %(BRKTS)s(collected|showed \\[.*\\] and (won|collected)) \\(?%(CUR)s(?P<POT>[,.\\d]+)\\)?(, mucked| with.*|)\" %  substitutions, re.MULTILINE)\n",
    "m = re_CollectPot.search(test)\n",
    "if m != None:\n",
    "\n",
    "    mg = m.groupdict()\n",
    "\n",
    "    df = pd.DataFrame.from_dict(mg, orient='index')\n",
    "    df = df.transpose()\n",
    "    display(HTML(df.to_html()))"
   ]
  },
  {
   "cell_type": "code",
   "execution_count": 26,
   "id": "52372bca-1d9c-4b20-a5ca-49e309b1e0cd",
   "metadata": {},
   "outputs": [
    {
     "data": {
      "text/html": [
       "<table border=\"1\" class=\"dataframe\">\n",
       "  <thead>\n",
       "    <tr style=\"text-align: right;\">\n",
       "      <th></th>\n",
       "      <th>SEAT</th>\n",
       "      <th>PNAME</th>\n",
       "      <th>POT</th>\n",
       "    </tr>\n",
       "  </thead>\n",
       "  <tbody>\n",
       "    <tr>\n",
       "      <th>0</th>\n",
       "      <td>5</td>\n",
       "      <td>joconde421</td>\n",
       "      <td>0.04</td>\n",
       "    </tr>\n",
       "  </tbody>\n",
       "</table>"
      ],
      "text/plain": [
       "<IPython.core.display.HTML object>"
      ]
     },
     "metadata": {},
     "output_type": "display_data"
    }
   ],
   "source": [
    "re_CollectPot2      = re.compile(r\"%(PLYR)s (collected|cashed out the hand for) %(CUR)s(?P<POT>[,.\\d]+)\" %  substitutions, re.MULTILINE)\n",
    "if m != None:\n",
    "\n",
    "    mg = m.groupdict()\n",
    "\n",
    "    df = pd.DataFrame.from_dict(mg, orient='index')\n",
    "    df = df.transpose()\n",
    "    display(HTML(df.to_html()))"
   ]
  },
  {
   "cell_type": "code",
   "execution_count": 27,
   "id": "b850f61f-4730-42b2-8948-1a935774b560",
   "metadata": {},
   "outputs": [],
   "source": [
    "re_CashedOut = re.compile(r\"cashed\\sout\\sthe\\shand\")\n",
    "\n",
    "m = re_CashedOut.search(test)\n",
    "if m != None:\n",
    "\n",
    "    mg = m.groupdict()\n",
    "\n",
    "    df = pd.DataFrame.from_dict(mg, orient='index')\n",
    "    df = df.transpose()\n",
    "    display(HTML(df.to_html()))"
   ]
  },
  {
   "cell_type": "code",
   "execution_count": 28,
   "id": "68668c6e-b1fd-4f39-9369-7efd92880451",
   "metadata": {},
   "outputs": [],
   "source": [
    "re_WinningRankOne = re.compile(u\"%(PLYR)s wins the tournament and receives %(CUR)s(?P<AMT>[,\\.0-9]+) - congratulations!$\" %  substitutions, re.MULTILINE)\n",
    "\n",
    "m = re_WinningRankOne.search(test)\n",
    "if m != None:\n",
    "\n",
    "    mg = m.groupdict()\n",
    "\n",
    "    df = pd.DataFrame.from_dict(mg, orient='index')\n",
    "    df = df.transpose()\n",
    "    display(HTML(df.to_html()))"
   ]
  },
  {
   "cell_type": "code",
   "execution_count": 29,
   "id": "70616988-024a-4a88-a93f-50bfeb0b3272",
   "metadata": {},
   "outputs": [],
   "source": [
    "re_WinningRankOther = re.compile(u\"%(PLYR)s finished the tournament in (?P<RANK>[0-9]+)(st|nd|rd|th) place and received %(CUR)s(?P<AMT>[,.0-9]+)\\.$\" %  substitutions, re.MULTILINE)\n",
    "\n",
    "m = re_WinningRankOther.search(test)\n",
    "if m != None:\n",
    "\n",
    "    mg = m.groupdict()\n",
    "\n",
    "    df = pd.DataFrame.from_dict(mg, orient='index')\n",
    "    df = df.transpose()\n",
    "    display(HTML(df.to_html()))"
   ]
  },
  {
   "cell_type": "code",
   "execution_count": 30,
   "id": "3969a71c-0b46-48a5-99b3-130670b50967",
   "metadata": {},
   "outputs": [],
   "source": [
    "re_Uncalled   = re.compile('Uncalled bet \\(%(CUR)s(?P<BET>[,.\\d]+)\\) returned to' %  substitutions, re.MULTILINE)\n",
    "\n",
    "m = re_Uncalled.search(test)\n",
    "if m != None:\n",
    "\n",
    "    mg = m.groupdict()\n",
    "\n",
    "    df = pd.DataFrame.from_dict(mg, orient='index')\n",
    "    df = df.transpose()\n",
    "    display(HTML(df.to_html()))"
   ]
  },
  {
   "cell_type": "code",
   "execution_count": 31,
   "id": "5eff10eb-7d23-4588-84c2-dfa062fd0d55",
   "metadata": {},
   "outputs": [
    {
     "data": {
      "text/html": [
       "<table border=\"1\" class=\"dataframe\">\n",
       "  <thead>\n",
       "    <tr style=\"text-align: right;\">\n",
       "      <th></th>\n",
       "      <th>POT</th>\n",
       "      <th>RAKE</th>\n",
       "    </tr>\n",
       "  </thead>\n",
       "  <tbody>\n",
       "    <tr>\n",
       "      <th>0</th>\n",
       "      <td>0.04</td>\n",
       "      <td>0</td>\n",
       "    </tr>\n",
       "  </tbody>\n",
       "</table>"
      ],
      "text/plain": [
       "<IPython.core.display.HTML object>"
      ]
     },
     "metadata": {},
     "output_type": "display_data"
    }
   ],
   "source": [
    "re_Rake             = re.compile(u\"\"\"\n",
    "                        Total\\spot\\s%(CUR)s(?P<POT>[,\\.0-9]+)(.+?)?\\s\\|\\sRake\\s%(CUR)s(?P<RAKE>[,\\.0-9]+)\"\"\"\n",
    "                         %  substitutions, re.MULTILINE|re.VERBOSE)\n",
    "\n",
    "m = re_Rake.search(test)\n",
    "if m != None:\n",
    "\n",
    "    mg = m.groupdict()\n",
    "\n",
    "    df = pd.DataFrame.from_dict(mg, orient='index')\n",
    "    df = df.transpose()\n",
    "    display(HTML(df.to_html()))"
   ]
  },
  {
   "cell_type": "code",
   "execution_count": 32,
   "id": "7966d78c-7f9b-48cf-ab9b-fe08c44b7a8b",
   "metadata": {},
   "outputs": [],
   "source": [
    "re_STP             = re.compile(u\"\"\"\n",
    "                        STP\\sadded:\\s%(CUR)s(?P<AMOUNT>[,\\.0-9]+)\"\"\"\n",
    "                         %  substitutions, re.MULTILINE|re.VERBOSE)\n",
    "\n",
    "m = re_STP.search(test)\n",
    "if m != None:\n",
    "\n",
    "    mg = m.groupdict()\n",
    "\n",
    "    df = pd.DataFrame.from_dict(mg, orient='index')\n",
    "    df = df.transpose()\n",
    "    display(HTML(df.to_html()))"
   ]
  },
  {
   "cell_type": "code",
   "execution_count": 33,
   "id": "f50f1728-94c9-42a1-b861-7685b5c6e574",
   "metadata": {},
   "outputs": [
    {
     "data": {
      "text/html": [
       "<table border=\"1\" class=\"dataframe\">\n",
       "  <thead>\n",
       "    <tr style=\"text-align: right;\">\n",
       "      <th></th>\n",
       "      <th>OLDCARDS</th>\n",
       "      <th>NEWCARDS</th>\n",
       "    </tr>\n",
       "  </thead>\n",
       "  <tbody>\n",
       "    <tr>\n",
       "      <th>0</th>\n",
       "      <td>None</td>\n",
       "      <td>6h Jh</td>\n",
       "    </tr>\n",
       "  </tbody>\n",
       "</table>"
      ],
      "text/plain": [
       "<IPython.core.display.HTML object>"
      ]
     },
     "metadata": {},
     "output_type": "display_data"
    }
   ],
   "source": [
    "player_re = \"jeje_sat\"\n",
    "subst = {\n",
    "                'PLYR': player_re,\n",
    "                'BRKTS': r'(\\(button\\) |\\(small blind\\) |\\(big blind\\) |\\(button\\) \\(small blind\\) |\\(button\\) \\(big blind\\) )?',\n",
    "                'CUR': u\"(\\$|\\xe2\\x82\\xac|\\u20ac||\\£|)\"\n",
    "            }\n",
    "re_HeroCards = re.compile(r\"Dealt to %(PLYR)s(?: \\[(?P<OLDCARDS>.+?)\\])?( \\[(?P<NEWCARDS>.+?)\\])\" % subst, re.MULTILINE)\n",
    "\n",
    "\n",
    "\n",
    "m = re_HeroCards.search(test)\n",
    "if m != None:\n",
    "\n",
    "    mg = m.groupdict()\n",
    "\n",
    "    df = pd.DataFrame.from_dict(mg, orient='index')\n",
    "    df = df.transpose()\n",
    "    display(HTML(df.to_html()))"
   ]
  },
  {
   "cell_type": "code",
   "execution_count": 22,
   "id": "daf7f7ad-17a0-4c2e-81cd-4cd8f4e9b1c8",
   "metadata": {},
   "outputs": [
    {
     "data": {
      "text/html": [
       "<table border=\"1\" class=\"dataframe\">\n",
       "  <thead>\n",
       "    <tr style=\"text-align: right;\">\n",
       "      <th></th>\n",
       "      <th>PREFLOP</th>\n",
       "      <th>FLOPET</th>\n",
       "      <th>FLOP</th>\n",
       "      <th>TURN</th>\n",
       "      <th>RIVER</th>\n",
       "      <th>FLOP1</th>\n",
       "      <th>TURN1</th>\n",
       "      <th>RIVER1</th>\n",
       "      <th>FLOP2</th>\n",
       "      <th>TURN2</th>\n",
       "      <th>RIVER2</th>\n",
       "    </tr>\n",
       "  </thead>\n",
       "  <tbody>\n",
       "    <tr>\n",
       "      <th>0</th>\n",
       "      <td>\\nDealt to jeje_sat [Th Tc]\\nCash8201: calls €0.02\\njeje_sat: raises €0.07 to €0.09\\nhnaolih: calls €0.09\\ncapitainefla: folds \\nKazdal95: calls €0.07\\nCash8201: calls €0.07\\n</td>\n",
       "      <td>None</td>\n",
       "      <td>[Jd 3h 4d]\\nDealt to jeje_sat [Th Tc] [4s]\\nKazdal95: checks \\nCash8201: checks \\njeje_sat: checks \\nhnaolih: checks \\n</td>\n",
       "      <td>[Td]\\nDealt to jeje_sat [Th Tc 4s] [4c]\\nKazdal95: checks \\nCash8201: checks \\njeje_sat: checks \\nhnaolih: checks \\n</td>\n",
       "      <td>[6c]\\nKazdal95: checks \\nCash8201: checks \\njeje_sat: checks \\nhnaolih: bets €0.31 and is all-in\\nKazdal95: folds \\nCash8201: calls €0.31\\njeje_sat: folds \\n*** SHOW DOWN ***\\nhnaolih: shows [5d Qs Ah 7d] (a flush, Jack high)\\nCash8201: shows [Jc 7h Ac 5c] (a straight, Three to Seven)\\nhnaolih collected €0.93 from pot\\n*** SUMMARY ***\\nTotal pot €0.99 | Rake €0.06 \\nBoard [Jd 3h 4d Td 6c]\\nSeat 2: Cash8201 showed [Jc 7h Ac 5c] and lost with a straight, Three to Seven\\nSeat 3: jeje_sat folded on the River\\nSeat 4: hnaolih (button) showed [5d Qs Ah 7d] and won (€0.93) with a flush, Jack high\\nSeat 5: capitainefla (small blind) folded before Flop\\nSeat 6: Kazdal95 (big blind) folded on the River</td>\n",
       "      <td>None</td>\n",
       "      <td>None</td>\n",
       "      <td>None</td>\n",
       "      <td>None</td>\n",
       "      <td>None</td>\n",
       "      <td>None</td>\n",
       "    </tr>\n",
       "  </tbody>\n",
       "</table>"
      ],
      "text/plain": [
       "<IPython.core.display.HTML object>"
      ]
     },
     "metadata": {},
     "output_type": "display_data"
    }
   ],
   "source": [
    "m =  re.search(r\"\\*\\*\\* HOLE CARDS \\*\\*\\*(?P<PREFLOP>(.+(?P<FLOPET>\\[\\S\\S\\]))?.+(?=\\*\\*\\* (FIRST\\s)?FLOP \\*\\*\\*)|.+)\"\n",
    "                           r\"(\\*\\*\\* FLOP \\*\\*\\*(?P<FLOP> (\\[\\S\\S\\] )?\\[(\\S\\S ?)?\\S\\S \\S\\S\\].+(?=\\*\\*\\* (FIRST\\s)?TURN \\*\\*\\*)|.+))?\"\n",
    "                           r\"(\\*\\*\\* TURN \\*\\*\\* \\[\\S\\S \\S\\S \\S\\S] (?P<TURN>\\[\\S\\S\\].+(?=\\*\\*\\* (FIRST\\s)?RIVER \\*\\*\\*)|.+))?\"\n",
    "                           r\"(\\*\\*\\* RIVER \\*\\*\\* \\[\\S\\S \\S\\S \\S\\S \\S\\S] (?P<RIVER>\\[\\S\\S\\].+))?\"\n",
    "                           r\"(\\*\\*\\* FIRST FLOP \\*\\*\\*(?P<FLOP1> (\\[\\S\\S\\] )?\\[(\\S\\S ?)?\\S\\S \\S\\S\\].+(?=\\*\\*\\* FIRST TURN \\*\\*\\*)|.+))?\"\n",
    "                           r\"(\\*\\*\\* FIRST TURN \\*\\*\\* \\[\\S\\S \\S\\S \\S\\S] (?P<TURN1>\\[\\S\\S\\].+(?=\\*\\*\\* FIRST RIVER \\*\\*\\*)|.+))?\"\n",
    "                           r\"(\\*\\*\\* FIRST RIVER \\*\\*\\* \\[\\S\\S \\S\\S \\S\\S \\S\\S] (?P<RIVER1>\\[\\S\\S\\].+?(?=\\*\\*\\* SECOND (FLOP|TURN|RIVER) \\*\\*\\*)|.+))?\"\n",
    "                           r\"(\\*\\*\\* SECOND FLOP \\*\\*\\*(?P<FLOP2> (\\[\\S\\S\\] )?\\[\\S\\S ?\\S\\S \\S\\S\\].+(?=\\*\\*\\* SECOND TURN \\*\\*\\*)|.+))?\"\n",
    "                           r\"(\\*\\*\\* SECOND TURN \\*\\*\\* \\[\\S\\S \\S\\S \\S\\S] (?P<TURN2>\\[\\S\\S\\].+(?=\\*\\*\\* SECOND RIVER \\*\\*\\*)|.+))?\"\n",
    "                           r\"(\\*\\*\\* SECOND RIVER \\*\\*\\* \\[\\S\\S \\S\\S \\S\\S \\S\\S] (?P<RIVER2>\\[\\S\\S\\].+))?\", test,re.DOTALL)\n",
    "\n",
    "if m != None:\n",
    "\n",
    "    mg = m.groupdict()\n",
    "\n",
    "    df = pd.DataFrame.from_dict(mg, orient='index')\n",
    "    df = df.transpose()\n",
    "    display(HTML(df.to_html()))\n",
    "    "
   ]
  },
  {
   "cell_type": "code",
   "execution_count": 10,
   "id": "2eddcd8f-5a13-4b1b-a88d-76ff24cabee4",
   "metadata": {},
   "outputs": [
    {
     "name": "stdout",
     "output_type": "stream",
     "text": [
      "{'PREFLOP': '\\nDealt to jeje_sat [Th Tc]\\nCash8201: calls €0.02\\njeje_sat: raises €0.07 to €0.09\\nhnaolih: calls €0.09\\ncapitainefla: folds \\nKazdal95: calls €0.07\\nCash8201: calls €0.07\\n', 'FLOP': ' [Jd 3h 4d]\\nDealt to jeje_sat [Th Tc] [4s]\\nKazdal95: checks \\nCash8201: checks \\njeje_sat: checks \\nhnaolih: checks \\n', 'TURN': '[Td]\\nDealt to jeje_sat [Th Tc 4s] [4c]\\nKazdal95: checks \\nCash8201: checks \\njeje_sat: checks \\nhnaolih: checks \\n', 'RIVER': '[6c]\\nKazdal95: checks \\nCash8201: checks \\njeje_sat: checks \\nhnaolih: bets €0.31 and is all-in\\nKazdal95: folds \\nCash8201: calls €0.31\\njeje_sat: folds \\n*** SHOW DOWN ***\\nhnaolih: shows [5d Qs Ah 7d] (a flush, Jack high)\\nCash8201: shows [Jc 7h Ac 5c] (a straight, Three to Seven)\\nhnaolih collected €0.93 from pot\\n*** SUMMARY ***\\nTotal pot €0.99 | Rake €0.06 \\nBoard [Jd 3h 4d Td 6c]\\nSeat 2: Cash8201 showed [Jc 7h Ac 5c] and lost with a straight, Three to Seven\\nSeat 3: jeje_sat folded on the River\\nSeat 4: hnaolih (button) showed [5d Qs Ah 7d] and won (€0.93) with a flush, Jack high\\nSeat 5: capitainefla (small blind) folded before Flop\\nSeat 6: Kazdal95 (big blind) folded on the River', 'FLOPET': None, 'FLOP1': None, 'TURN1': None, 'RIVER1': None, 'FLOP2': None, 'TURN2': None, 'RIVER2': None}\n"
     ]
    }
   ],
   "source": [
    "mm = {'PREFLOP': '\\nDealt to jeje_sat [Th Tc]\\nCash8201: calls €0.02\\njeje_sat: raises €0.07 to €0.09\\nhnaolih: calls €0.09\\ncapitainefla: folds \\nKazdal95: calls €0.07\\nCash8201: calls €0.07\\n', 'FLOPET': None, 'FLOP': ' [Jd 3h 4d]\\nDealt to jeje_sat [Th Tc] [4s]\\nKazdal95: checks \\nCash8201: checks \\njeje_sat: checks \\nhnaolih: checks \\n', 'TURN': '[Td]\\nDealt to jeje_sat [Th Tc 4s] [4c]\\nKazdal95: checks \\nCash8201: checks \\njeje_sat: checks \\nhnaolih: checks \\n', 'RIVER': '[6c]\\nKazdal95: checks \\nCash8201: checks \\njeje_sat: checks \\nhnaolih: bets €0.31 and is all-in\\nKazdal95: folds \\nCash8201: calls €0.31\\njeje_sat: folds \\n*** SHOW DOWN ***\\nhnaolih: shows [5d Qs Ah 7d] (a flush, Jack high)\\nCash8201: shows [Jc 7h Ac 5c] (a straight, Three to Seven)\\nhnaolih collected €0.93 from pot\\n*** SUMMARY ***\\nTotal pot €0.99 | Rake €0.06 \\nBoard [Jd 3h 4d Td 6c]\\nSeat 2: Cash8201 showed [Jc 7h Ac 5c] and lost with a straight, Three to Seven\\nSeat 3: jeje_sat folded on the River\\nSeat 4: hnaolih (button) showed [5d Qs Ah 7d] and won (€0.93) with a flush, Jack high\\nSeat 5: capitainefla (small blind) folded before Flop\\nSeat 6: Kazdal95 (big blind) folded on the River', 'FLOP1': None, 'TURN1': None, 'RIVER1': None, 'FLOP2': None, 'TURN2': None, 'RIVER2': None}\n",
    "m = {'PREFLOP': '', 'FLOP':'', 'TURN':'', 'RIVER': ''}\n",
    "m.update(mm)\n",
    "print(m)\n"
   ]
  },
  {
   "cell_type": "code",
   "execution_count": null,
   "id": "86e97770-ac9b-44d7-b8b4-2093c1c97e99",
   "metadata": {},
   "outputs": [],
   "source": []
  },
  {
   "cell_type": "code",
   "execution_count": null,
   "id": "ede79c4d-c104-4ca2-978e-1e78c4b7503a",
   "metadata": {},
   "outputs": [],
   "source": []
  }
 ],
 "metadata": {
  "kernelspec": {
   "display_name": "Python 3 (ipykernel)",
   "language": "python",
   "name": "python3"
  },
  "language_info": {
   "codemirror_mode": {
    "name": "ipython",
    "version": 3
   },
   "file_extension": ".py",
   "mimetype": "text/x-python",
   "name": "python",
   "nbconvert_exporter": "python",
   "pygments_lexer": "ipython3",
   "version": "3.9.16"
  },
  "vscode": {
   "interpreter": {
    "hash": "f80a5a0cc8063663f65acede7fbcc16339b9aaec7d0949debf28dca766e6420d"
   }
  }
 },
 "nbformat": 4,
 "nbformat_minor": 5
}
