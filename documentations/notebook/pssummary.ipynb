{
 "cells": [
  {
   "cell_type": "code",
   "execution_count": 7,
   "id": "eb008ae8-77da-413a-9108-9e9303a9006a",
   "metadata": {
    "tags": []
   },
   "outputs": [
    {
     "name": "stderr",
     "output_type": "stream",
     "text": [
      "C:\\Users\\jd\\AppData\\Local\\Temp/ipykernel_7412/2181960201.py:22: FutureWarning: Possible set union at position 754\n",
      "  re_TourneyInfo = re.compile(u\"\"\"\n",
      "C:\\Users\\jd\\AppData\\Local\\Temp/ipykernel_7412/2181960201.py:22: FutureWarning: Possible set union at position 826\n",
      "  re_TourneyInfo = re.compile(u\"\"\"\n",
      "C:\\Users\\jd\\AppData\\Local\\Temp/ipykernel_7412/2181960201.py:22: FutureWarning: Possible set union at position 869\n",
      "  re_TourneyInfo = re.compile(u\"\"\"\n",
      "C:\\Users\\jd\\AppData\\Local\\Temp/ipykernel_7412/2181960201.py:22: FutureWarning: Possible set union at position 1043\n",
      "  re_TourneyInfo = re.compile(u\"\"\"\n",
      "C:\\Users\\jd\\AppData\\Local\\Temp/ipykernel_7412/2181960201.py:22: FutureWarning: Possible set union at position 1237\n",
      "  re_TourneyInfo = re.compile(u\"\"\"\n",
      "C:\\Users\\jd\\AppData\\Local\\Temp/ipykernel_7412/2181960201.py:22: FutureWarning: Possible set union at position 1495\n",
      "  re_TourneyInfo = re.compile(u\"\"\"\n",
      "C:\\Users\\jd\\AppData\\Local\\Temp/ipykernel_7412/2181960201.py:22: FutureWarning: Possible set union at position 1543\n",
      "  re_TourneyInfo = re.compile(u\"\"\"\n",
      "C:\\Users\\jd\\AppData\\Local\\Temp/ipykernel_7412/2181960201.py:22: FutureWarning: Possible set union at position 1590\n",
      "  re_TourneyInfo = re.compile(u\"\"\"\n"
     ]
    },
    {
     "data": {
      "text/html": [
       "<table border=\"1\" class=\"dataframe\">\n",
       "  <thead>\n",
       "    <tr style=\"text-align: right;\">\n",
       "      <th></th>\n",
       "      <th>TOURNO</th>\n",
       "      <th>DESC1</th>\n",
       "      <th>LIMIT</th>\n",
       "      <th>SPLIT</th>\n",
       "      <th>GAME</th>\n",
       "      <th>DESC</th>\n",
       "      <th>CURRENCY</th>\n",
       "      <th>BUYIN</th>\n",
       "      <th>CURRENCY1</th>\n",
       "      <th>FEE</th>\n",
       "      <th>BOUNTY</th>\n",
       "      <th>CUR</th>\n",
       "      <th>ENTRIES</th>\n",
       "      <th>ADDED</th>\n",
       "      <th>PRIZEPOOL</th>\n",
       "      <th>SATELLITE</th>\n",
       "      <th>TARGTOURNO</th>\n",
       "      <th>TARGCURRENCY</th>\n",
       "      <th>TARGBUYIN</th>\n",
       "      <th>TARGFEE</th>\n",
       "      <th>TARGBOUNTY</th>\n",
       "      <th>TARGCUR</th>\n",
       "      <th>DATETIME</th>\n",
       "    </tr>\n",
       "  </thead>\n",
       "  <tbody>\n",
       "    <tr>\n",
       "      <th>0</th>\n",
       "      <td>3407415859</td>\n",
       "      <td>None</td>\n",
       "      <td>Pot Limit</td>\n",
       "      <td>None</td>\n",
       "      <td>Omaha</td>\n",
       "      <td>None</td>\n",
       "      <td>€</td>\n",
       "      <td>0.23</td>\n",
       "      <td>None</td>\n",
       "      <td>0.02</td>\n",
       "      <td>None</td>\n",
       "      <td>EUR</td>\n",
       "      <td>3</td>\n",
       "      <td>None</td>\n",
       "      <td>0.50</td>\n",
       "      <td>None</td>\n",
       "      <td>None</td>\n",
       "      <td>None</td>\n",
       "      <td>None</td>\n",
       "      <td>None</td>\n",
       "      <td>None</td>\n",
       "      <td>None</td>\n",
       "      <td>2022/05/06 20:58:09 CET [2022/05/06 14:58:09 ET]</td>\n",
       "    </tr>\n",
       "  </tbody>\n",
       "</table>"
      ],
      "text/plain": [
       "<IPython.core.display.HTML object>"
      ]
     },
     "metadata": {},
     "output_type": "display_data"
    }
   ],
   "source": [
    "import re\n",
    "import pandas as pd\n",
    "import numpy as np\n",
    "from IPython.display import display, HTML\n",
    "\n",
    "\n",
    "test = \"\"\"#3407415859, Pot Limit Omaha\n",
    "Buy-In: €0.23/€0.02 EUR\n",
    "3 players\n",
    "Total Prize Pool: €0.50 EUR\n",
    "Tournament started 2022/05/06 20:58:09 CET [2022/05/06 14:58:09 ET]\n",
    "Tournament finished 2022/05/06 21:04:32 CET [2022/05/06 15:04:32 ET]\n",
    "  1: jeje_sat (France), €0.50 (100%)\n",
    "  2: Killer7714 (Spain),\n",
    "  3: Jcfp12 (Portugal), \"\"\"\n",
    "\n",
    "substitutions = {\n",
    "                     'LEGAL_ISO' : \"USD|EUR|GBP|CAD|FPP|SC|INR|CNY\",    # legal ISO currency codes\n",
    "                            'LS' : u\"\\$|\\xe2\\x82\\xac|\\u20AC||\\£|\\u20b9|\\¥|\" # legal currency symbols - Euro(cp1252, utf-8)\n",
    "                    }\n",
    "\n",
    "re_TourneyInfo = re.compile(u\"\"\"\n",
    "                        \\#(?P<TOURNO>[0-9]+),\\s\n",
    "                        (?P<DESC1>.+?\\sSNG\\s)?\n",
    "                        ((?P<LIMIT>No\\sLimit|NO\\sLIMIT|Limit|LIMIT|Pot\\sLimit|POT\\sLIMIT|Pot\\sLimit\\sPre\\-Flop,\\sNo\\sLimit\\sPost\\-Flop)\\s)?\n",
    "                        (?P<SPLIT>Split)?\\s?\n",
    "                        (?P<GAME>Hold\\'em|6\\+\\sHold\\'em|Hold\\s\\'Em|Razz|RAZZ|7\\sCard\\sStud|7\\sCard\\sStud\\sHi/Lo|Omaha|Omaha\\sHi/Lo|Badugi|Triple\\sDraw\\s2\\-7\\sLowball|Single\\sDraw\\s2\\-7\\sLowball|5\\sCard\\sDraw|(5|6)\\sCard\\sOmaha(\\sHi/Lo)?|Courchevel(\\sHi/Lo)?|HORSE|8\\-Game|HOSE|Mixed\\sOmaha\\sH/L|Mixed\\sHold\\'em|Mixed\\sPLH/PLO|Mixed\\sNLH/PLO||Mixed\\sOmaha|Triple\\sStud)\\s+\n",
    "                        (?P<DESC>[ a-zA-Z]+\\s+)?\n",
    "                        (Buy-In:\\s(?P<CURRENCY>[%(LS)s]?)(?P<BUYIN>[,.0-9]+)(\\s(?P<CURRENCY1>(FPP|SC)))?(\\/[%(LS)s]?(?P<FEE>[,.0-9]+))?(\\/[%(LS)s]?(?P<BOUNTY>[,.0-9]+))?(?P<CUR>\\s(%(LEGAL_ISO)s))?\\s+)?\n",
    "                        (?P<ENTRIES>[0-9]+)\\splayers\\s+\n",
    "                        ([%(LS)s]?(?P<ADDED>[,.\\d]+)(\\s(%(LEGAL_ISO)s))?\\sadded\\sto\\sthe\\sprize\\spool\\sby\\s(PokerStars|Full\\sTilt)(\\.com)?\\s+)?\n",
    "                        (Total\\sPrize\\sPool:\\s[%(LS)s]?(?P<PRIZEPOOL>[,.0-9]+|Sunday\\sMillion\\s(ticket|biļete))(\\s(%(LEGAL_ISO)s))?\\s+)?\n",
    "                        (?P<SATELLITE>Target\\sTournament\\s\\#(?P<TARGTOURNO>[0-9]+)\\s+\n",
    "                         (Buy-In:\\s(?P<TARGCURRENCY>[%(LS)s]?)(?P<TARGBUYIN>[,.0-9]+)(\\/[%(LS)s]?(?P<TARGFEE>[,.0-9]+))?(\\/[%(LS)s]?(?P<TARGBOUNTY>[,.0-9]+))?(?P<TARGCUR>\\s(%(LEGAL_ISO)s))?\\s+)?)?\n",
    "                        ([0-9]+\\stickets?\\sto\\sthe\\starget\\stournament\\s+)?\n",
    "                        Tournament\\sstarted\\s+(-\\s)?\n",
    "                        (?P<DATETIME>.*$)\n",
    "                        \"\"\" % substitutions ,re.VERBOSE|re.MULTILINE)\n",
    "\n",
    "m = re_TourneyInfo.search(test)\n",
    "if m != None:\n",
    "\n",
    "    mg = m.groupdict()\n",
    "\n",
    "    df = pd.DataFrame.from_dict(mg, orient='index')\n",
    "    df = df.transpose()\n",
    "    display(HTML(df.to_html()))"
   ]
  },
  {
   "cell_type": "code",
   "execution_count": 4,
   "id": "fd6c5203-4125-440b-b856-e30f35631370",
   "metadata": {},
   "outputs": [
    {
     "data": {
      "text/html": [
       "<table border=\"1\" class=\"dataframe\">\n",
       "  <thead>\n",
       "    <tr style=\"text-align: right;\">\n",
       "      <th></th>\n",
       "      <th>ENTRIES</th>\n",
       "    </tr>\n",
       "  </thead>\n",
       "  <tbody>\n",
       "    <tr>\n",
       "      <th>0</th>\n",
       "      <td>3</td>\n",
       "    </tr>\n",
       "  </tbody>\n",
       "</table>"
      ],
      "text/plain": [
       "<IPython.core.display.HTML object>"
      ]
     },
     "metadata": {},
     "output_type": "display_data"
    }
   ],
   "source": []
  },
  {
   "cell_type": "code",
   "execution_count": null,
   "id": "1ed13a28-4bc8-4169-9feb-2fe51b8e8b98",
   "metadata": {},
   "outputs": [],
   "source": [
    "\n"
   ]
  }
 ],
 "metadata": {
  "kernelspec": {
   "display_name": "Python 3 (ipykernel)",
   "language": "python",
   "name": "python3"
  },
  "language_info": {
   "codemirror_mode": {
    "name": "ipython",
    "version": 3
   },
   "file_extension": ".py",
   "mimetype": "text/x-python",
   "name": "python",
   "nbconvert_exporter": "python",
   "pygments_lexer": "ipython3",
   "version": "3.9.7"
  }
 },
 "nbformat": 4,
 "nbformat_minor": 5
}
