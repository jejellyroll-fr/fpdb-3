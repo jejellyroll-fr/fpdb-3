{
 "cells": [
  {
   "cell_type": "code",
   "execution_count": 41,
   "id": "34691d28-c1ba-40ab-a97e-9954b69fcd9d",
   "metadata": {},
   "outputs": [
    {
     "name": "stdout",
     "output_type": "stream",
     "text": [
      "None\n"
     ]
    }
   ],
   "source": [
    "import re\n",
    "import pandas as pd\n",
    "import numpy as np\n",
    "from IPython.display import display, HTML\n",
    "\n",
    "test =\"\"\"<?xml version=\"1.0\" encoding=\"utf-8\"?>\n",
    "<session sessioncode=\"4949274597\">\n",
    " <general>\n",
    "  <client_version>22.9.1.11</client_version>\n",
    "  <mode>real</mode>\n",
    "  <gametype>Omaha PL 0,01€/0,02€</gametype>\n",
    "  <tablename>Sasolburg, 560235858</tablename>\n",
    "  <tablecurrency>EUR</tablecurrency>\n",
    "  <smallblind>0,01€</smallblind>\n",
    "  <bigblind>0,02€</bigblind>\n",
    "  <duration>00:31:53</duration>\n",
    "  <gamecount>45</gamecount>\n",
    "  <startdate>2022-11-03 20:42:01</startdate>\n",
    "  <currency>EUR</currency>\n",
    "  <nickname>jedeop</nickname>\n",
    "  <bets>11,42€</bets>\n",
    "  <wins>7,26€</wins>\n",
    "  <chipsin>1,98€</chipsin>\n",
    "  <chipsout>4,83€</chipsout>\n",
    "  <statuspoints>0,03</statuspoints>\n",
    "  <awardpoints>0,00</awardpoints>\n",
    "  <ipoints>0,03</ipoints>\n",
    "  <tablesize>6</tablesize>\n",
    " </general>\n",
    " <game gamecode=\"6175905121\">\n",
    "  <general>\n",
    "   <startdate>2022-11-03 20:42:01</startdate>\n",
    "   <players>\n",
    "    <player win=\"0€\" bet=\"0,02€\" name=\"Player 5\" dealer=\"0\" chips=\"3,35€\" seat=\"5\"/>\n",
    "    <player win=\"0,47€\" bet=\"0,53€\" name=\"Player 6\" dealer=\"1\" chips=\"0,64€\" seat=\"6\"/>\n",
    "    <player win=\"0€\" bet=\"0,16€\" name=\"Player 8\" dealer=\"0\" chips=\"0,44€\" seat=\"8\"/>\n",
    "    <player win=\"0€\" bet=\"0,16€\" name=\"Player 10\" dealer=\"0\" chips=\"0,60€\" seat=\"10\"/>\n",
    "    <player win=\"0€\" bet=\"0€\" name=\"Player 3\" dealer=\"0\" chips=\"1,33€\" seat=\"3\"/>\n",
    "   </players>\n",
    "  </general>\n",
    "  <round no=\"0\">\n",
    "   <action player=\"Player 8\" type=\"1\" no=\"1\" sum=\"0,01€\"/>\n",
    "   <action player=\"Player 10\" type=\"2\" no=\"2\" sum=\"0,02€\"/>\n",
    "  </round>\n",
    "  <round no=\"1\">\n",
    "   <cards player=\"Player 3\" type=\"Pocket\">X X X X</cards>\n",
    "   <action player=\"Player 3\" type=\"0\" no=\"3\" sum=\"0€\"/>\n",
    "   <cards player=\"Player 5\" type=\"Pocket\">X X X X</cards>\n",
    "   <action player=\"Player 5\" type=\"3\" no=\"4\" sum=\"0,02€\"/>\n",
    "   <cards player=\"Player 6\" type=\"Pocket\">X X X X</cards>\n",
    "   <action player=\"Player 6\" type=\"3\" no=\"5\" sum=\"0,02€\"/>\n",
    "   <cards player=\"Player 8\" type=\"Pocket\">X X X X</cards>\n",
    "   <action player=\"Player 8\" type=\"3\" no=\"6\" sum=\"0,01€\"/>\n",
    "   <cards player=\"Player 10\" type=\"Pocket\">X X X X</cards>\n",
    "   <action player=\"Player 10\" type=\"4\" no=\"7\" sum=\"0€\"/>\n",
    "  </round>\n",
    "  <round no=\"2\">\n",
    "   <cards type=\"Flop\">D10 CA HQ</cards>\n",
    "   <action player=\"Player 8\" type=\"4\" no=\"8\" sum=\"0€\"/>\n",
    "   <action player=\"Player 10\" type=\"4\" no=\"9\" sum=\"0€\"/>\n",
    "   <action player=\"Player 5\" type=\"4\" no=\"10\" sum=\"0€\"/>\n",
    "   <action player=\"Player 6\" type=\"5\" no=\"11\" sum=\"0,04€\"/>\n",
    "   <action player=\"Player 8\" type=\"3\" no=\"12\" sum=\"0,04€\"/>\n",
    "   <action player=\"Player 10\" type=\"3\" no=\"13\" sum=\"0,04€\"/>\n",
    "   <action player=\"Player 5\" type=\"0\" no=\"14\" sum=\"0€\"/>\n",
    "  </round>\n",
    "  <round no=\"3\">\n",
    "   <cards type=\"Turn\">C4</cards>\n",
    "   <action player=\"Player 8\" type=\"4\" no=\"15\" sum=\"0€\"/>\n",
    "   <action player=\"Player 10\" type=\"4\" no=\"16\" sum=\"0€\"/>\n",
    "   <action player=\"Player 6\" type=\"5\" no=\"17\" sum=\"0,10€\"/>\n",
    "   <action player=\"Player 8\" type=\"3\" no=\"18\" sum=\"0,10€\"/>\n",
    "   <action player=\"Player 10\" type=\"3\" no=\"19\" sum=\"0,10€\"/>\n",
    "  </round>\n",
    "  <round no=\"4\">\n",
    "   <cards type=\"River\">D7</cards>\n",
    "   <action player=\"Player 8\" type=\"4\" no=\"20\" sum=\"0€\"/>\n",
    "   <action player=\"Player 10\" type=\"4\" no=\"21\" sum=\"0€\"/>\n",
    "   <action player=\"Player 6\" type=\"5\" no=\"22\" sum=\"0,37€\"/>\n",
    "   <action player=\"Player 8\" type=\"0\" no=\"23\" sum=\"0€\"/>\n",
    "   <action player=\"Player 10\" type=\"0\" no=\"24\" sum=\"0€\"/>\n",
    "  </round>\n",
    " </game>\n",
    "\"\"\"\n",
    "\n",
    "substitutions = {\n",
    "                     'LS'  : u\"\\$|\\xe2\\x82\\xac|\\xe2\\u201a\\xac|\\u20ac|\\xc2\\xa3|\\£|RSD|\",\n",
    "                     'PLYR': r'(?P<PNAME>[^\\\"]+)',\n",
    "                     'NUM' : r'(.,\\d+)|(\\d+)',\n",
    "                    }\n",
    "\n",
    "re_Identify = re.compile(u\"\"\"<?xml version=\"1.0\" encoding=\"utf-8\"?>\n",
    "<session sessioncode=\"\"\",  re.MULTILINE)\n",
    "\n",
    "m = re_Identify.search(test)\n",
    "print(m)\n",
    "if m != None:\n",
    "\n",
    "    mg = m.groupdict()\n",
    "\n",
    "    df = pd.DataFrame.from_dict(mg, orient='index')\n",
    "    df = df.transpose()\n",
    "    display(HTML(df.to_html()))"
   ]
  },
  {
   "cell_type": "code",
   "execution_count": 26,
   "id": "b1220032-f4d0-4054-8788-fe8dd0e920bc",
   "metadata": {},
   "outputs": [
    {
     "data": {
      "text/html": [
       "<table border=\"1\" class=\"dataframe\">\n",
       "  <thead>\n",
       "    <tr style=\"text-align: right;\">\n",
       "      <th></th>\n",
       "      <th>GAME</th>\n",
       "      <th>CATEGORY</th>\n",
       "      <th>LIMIT</th>\n",
       "      <th>LSB</th>\n",
       "      <th>LBB</th>\n",
       "      <th>SB</th>\n",
       "      <th>BB</th>\n",
       "      <th>ANTE</th>\n",
       "      <th>TABLE</th>\n",
       "      <th>TABLECURRENCY</th>\n",
       "      <th>CURRENCY</th>\n",
       "      <th>HERO</th>\n",
       "    </tr>\n",
       "  </thead>\n",
       "  <tbody>\n",
       "    <tr>\n",
       "      <th>0</th>\n",
       "      <td>Omaha PL</td>\n",
       "      <td>Omaha</td>\n",
       "      <td>PL</td>\n",
       "      <td>None</td>\n",
       "      <td>None</td>\n",
       "      <td>0,01</td>\n",
       "      <td>0,02</td>\n",
       "      <td>None</td>\n",
       "      <td>Sasolburg, 560235858</td>\n",
       "      <td>EUR</td>\n",
       "      <td>EUR</td>\n",
       "      <td>jedeop</td>\n",
       "    </tr>\n",
       "  </tbody>\n",
       "</table>"
      ],
      "text/plain": [
       "<IPython.core.display.HTML object>"
      ]
     },
     "metadata": {},
     "output_type": "display_data"
    }
   ],
   "source": [
    "re_GameInfo = re.compile(r\"\"\"\n",
    "           <gametype>(?P<GAME>((?P<CATEGORY>(5|7)\\sCard\\sStud(\\sHi\\-Lo)?|(Six\\sPlus\\s)?Holdem|Omaha(\\sHi\\-Lo)?)?\\s?(?P<LIMIT>NL|SL|L|LZ|PL|БЛ|LP|No\\slimit|Pot\\slimit|Limit))|LH\\s(?P<LSB>[%(NUM)s]+)(%(LS)s)?/(?P<LBB>[%(NUM)s]+)(%(LS)s)?.+?)\n",
    "            (\\s(%(LS)s)?(?P<SB>[%(NUM)s]+)(%(LS)s)?/(%(LS)s)?(?P<BB>[%(NUM)s]+))?(%(LS)s)?(\\sAnte\\s(%(LS)s)?(?P<ANTE>[%(NUM)s]+)(%(LS)s)?)?</gametype>\\s+?\n",
    "            <tablename>(?P<TABLE>.+)?</tablename>\\s+?\n",
    "            (<(tablecurrency|tournamentcurrency)>(?P<TABLECURRENCY>.*)</(tablecurrency|tournamentcurrency)>\\s+?)?\n",
    "            (<smallblind>.+</smallblind>\\s+?)?\n",
    "            (<bigblind>.+</bigblind>\\s+?)?\n",
    "            <duration>.+</duration>\\s+?\n",
    "            <gamecount>.+</gamecount>\\s+?\n",
    "            <startdate>.+</startdate>\\s+?\n",
    "            <currency>(?P<CURRENCY>.+)?</currency>\\s+?\n",
    "            <nickname>(?P<HERO>.+)?</nickname>\n",
    "            \"\"\" % substitutions, re.MULTILINE|re.VERBOSE)\n",
    "\n",
    "m = re_GameInfo.search(test)\n",
    "if m != None:\n",
    "\n",
    "    mg = m.groupdict()\n",
    "\n",
    "    df = pd.DataFrame.from_dict(mg, orient='index')\n",
    "    df = df.transpose()\n",
    "    display(HTML(df.to_html()))"
   ]
  },
  {
   "cell_type": "code",
   "execution_count": 4,
   "id": "e887af73-a9a6-4ec2-8785-62bef97c2cb0",
   "metadata": {},
   "outputs": [
    {
     "data": {
      "text/html": [
       "<table border=\"1\" class=\"dataframe\">\n",
       "  <thead>\n",
       "    <tr style=\"text-align: right;\">\n",
       "      <th></th>\n",
       "      <th>HID</th>\n",
       "      <th>DATETIME</th>\n",
       "    </tr>\n",
       "  </thead>\n",
       "  <tbody>\n",
       "    <tr>\n",
       "      <th>0</th>\n",
       "      <td>6175905121</td>\n",
       "      <td>2022-11-03 20:42:01</td>\n",
       "    </tr>\n",
       "  </tbody>\n",
       "</table>"
      ],
      "text/plain": [
       "<IPython.core.display.HTML object>"
      ]
     },
     "metadata": {},
     "output_type": "display_data"
    }
   ],
   "source": [
    "re_HandInfo = re.compile(r'code=\"(?P<HID>[0-9]+)\">\\s*?<general>\\s*?<startdate>(?P<DATETIME>[\\.a-zA-Z-/: 0-9]+)</startdate>', re.MULTILINE)\n",
    "    \n",
    "m = re_HandInfo.search(test)\n",
    "if m != None:\n",
    "\n",
    "    mg = m.groupdict()\n",
    "\n",
    "    df = pd.DataFrame.from_dict(mg, orient='index')\n",
    "    df = df.transpose()\n",
    "    display(HTML(df.to_html()))"
   ]
  },
  {
   "cell_type": "code",
   "execution_count": 5,
   "id": "3d3c4165-cab1-47ae-8f82-57e00aeec6ec",
   "metadata": {},
   "outputs": [
    {
     "data": {
      "text/html": [
       "<table border=\"1\" class=\"dataframe\">\n",
       "  <thead>\n",
       "    <tr style=\"text-align: right;\">\n",
       "      <th></th>\n",
       "      <th>SEAT</th>\n",
       "      <th>PNAME</th>\n",
       "      <th>CASH</th>\n",
       "      <th>BUTTONPOS</th>\n",
       "      <th>WIN</th>\n",
       "      <th>BET</th>\n",
       "    </tr>\n",
       "  </thead>\n",
       "  <tbody>\n",
       "    <tr>\n",
       "      <th>0</th>\n",
       "      <td>5</td>\n",
       "      <td>Player 5</td>\n",
       "      <td>3,35</td>\n",
       "      <td>0</td>\n",
       "      <td>0</td>\n",
       "      <td>0,02€</td>\n",
       "    </tr>\n",
       "  </tbody>\n",
       "</table>"
      ],
      "text/plain": [
       "<IPython.core.display.HTML object>"
      ]
     },
     "metadata": {},
     "output_type": "display_data"
    }
   ],
   "source": [
    "re_PlayerInfo = re.compile(r'<player( (seat=\"(?P<SEAT>[0-9]+)\"|name=\"%(PLYR)s\"|chips=\"(%(LS)s)?(?P<CASH>[%(NUM)s]+)(%(LS)s)?\"|dealer=\"(?P<BUTTONPOS>(0|1))\"|win=\"(%(LS)s)?(?P<WIN>[%(NUM)s]+)(%(LS)s)?\"|bet=\"(%(LS)s)?(?P<BET>[^\"]+)(%(LS)s)?\"|addon=\"\\d*\"|rebuy=\"\\d*\"|merge=\"\\d*\"|reg_code=\"[\\d-]*\"))+\\s*/>' % substitutions, re.MULTILINE)\n",
    "    \n",
    "m = re_PlayerInfo.search(test)\n",
    "if m != None:\n",
    "\n",
    "    mg = m.groupdict()\n",
    "\n",
    "    df = pd.DataFrame.from_dict(mg, orient='index')\n",
    "    df = df.transpose()\n",
    "    display(HTML(df.to_html()))"
   ]
  },
  {
   "cell_type": "code",
   "execution_count": 6,
   "id": "ac02586b-455e-4e7d-a8d8-8fda8e8b746b",
   "metadata": {},
   "outputs": [
    {
     "data": {
      "text/html": [
       "<table border=\"1\" class=\"dataframe\">\n",
       "  <thead>\n",
       "    <tr style=\"text-align: right;\">\n",
       "      <th></th>\n",
       "      <th>STREET</th>\n",
       "      <th>CARDS</th>\n",
       "    </tr>\n",
       "  </thead>\n",
       "  <tbody>\n",
       "    <tr>\n",
       "      <th>0</th>\n",
       "      <td>Flop</td>\n",
       "      <td>D10 CA HQ</td>\n",
       "    </tr>\n",
       "  </tbody>\n",
       "</table>"
      ],
      "text/plain": [
       "<IPython.core.display.HTML object>"
      ]
     },
     "metadata": {},
     "output_type": "display_data"
    }
   ],
   "source": [
    "re_Board = re.compile(r'<cards( (type=\"(?P<STREET>Flop|Turn|River)\"|player=\"\"))+>(?P<CARDS>.+?)</cards>', re.MULTILINE)\n",
    "    \n",
    "m = re_Board.search(test)\n",
    "if m != None:\n",
    "\n",
    "    mg = m.groupdict()\n",
    "\n",
    "    df = pd.DataFrame.from_dict(mg, orient='index')\n",
    "    df = df.transpose()\n",
    "    display(HTML(df.to_html()))"
   ]
  },
  {
   "cell_type": "code",
   "execution_count": 7,
   "id": "c9b46e40-d9ae-497e-9700-b0f6d3c23484",
   "metadata": {},
   "outputs": [
    {
     "data": {
      "text/html": [
       "<table border=\"1\" class=\"dataframe\">\n",
       "  <thead>\n",
       "    <tr style=\"text-align: right;\">\n",
       "      <th></th>\n",
       "      <th>HERO</th>\n",
       "    </tr>\n",
       "  </thead>\n",
       "  <tbody>\n",
       "    <tr>\n",
       "      <th>0</th>\n",
       "      <td>jedeop</td>\n",
       "    </tr>\n",
       "  </tbody>\n",
       "</table>"
      ],
      "text/plain": [
       "<IPython.core.display.HTML object>"
      ]
     },
     "metadata": {},
     "output_type": "display_data"
    }
   ],
   "source": [
    "re_Hero = re.compile(r'<nickname>(?P<HERO>.+)</nickname>', re.MULTILINE)\n",
    "   \n",
    "m = re_Hero.search(test)\n",
    "if m != None:\n",
    "\n",
    "    mg = m.groupdict()\n",
    "\n",
    "    df = pd.DataFrame.from_dict(mg, orient='index')\n",
    "    df = df.transpose()\n",
    "    display(HTML(df.to_html()))"
   ]
  },
  {
   "cell_type": "code",
   "execution_count": 8,
   "id": "601b02ce-91a5-42b8-9a37-3ae6fbbb712e",
   "metadata": {},
   "outputs": [
    {
     "data": {
      "text/html": [
       "<table border=\"1\" class=\"dataframe\">\n",
       "  <thead>\n",
       "    <tr style=\"text-align: right;\">\n",
       "      <th></th>\n",
       "      <th>PNAME</th>\n",
       "      <th>CARDS</th>\n",
       "    </tr>\n",
       "  </thead>\n",
       "  <tbody>\n",
       "    <tr>\n",
       "      <th>0</th>\n",
       "      <td>Player 3</td>\n",
       "      <td>X X X X</td>\n",
       "    </tr>\n",
       "  </tbody>\n",
       "</table>"
      ],
      "text/plain": [
       "<IPython.core.display.HTML object>"
      ]
     },
     "metadata": {},
     "output_type": "display_data"
    }
   ],
   "source": [
    "re_HeroCards = re.compile(r'<cards( (type=\"(Pocket|Second\\sStreet|Third\\sStreet|Fourth\\sStreet|Fifth\\sStreet|Sixth\\sStreet|River)\"|player=\"%(PLYR)s\"))+>(?P<CARDS>.+?)</cards>' % substitutions, re.MULTILINE)\n",
    "    \n",
    "m = re_HeroCards.search(test)\n",
    "if m != None:\n",
    "\n",
    "    mg = m.groupdict()\n",
    "\n",
    "    df = pd.DataFrame.from_dict(mg, orient='index')\n",
    "    df = df.transpose()\n",
    "    display(HTML(df.to_html()))"
   ]
  },
  {
   "cell_type": "code",
   "execution_count": 47,
   "id": "dbc41c1b-e51c-46b9-92de-0457a91621c9",
   "metadata": {},
   "outputs": [
    {
     "data": {
      "text/html": [
       "<table border=\"1\" class=\"dataframe\">\n",
       "  <thead>\n",
       "    <tr style=\"text-align: right;\">\n",
       "      <th></th>\n",
       "      <th>PNAME</th>\n",
       "      <th>ATYPE</th>\n",
       "      <th>ACT</th>\n",
       "      <th>BET</th>\n",
       "    </tr>\n",
       "  </thead>\n",
       "  <tbody>\n",
       "    <tr>\n",
       "      <th>0</th>\n",
       "      <td>Player 8</td>\n",
       "      <td>1</td>\n",
       "      <td>1</td>\n",
       "      <td>0,01</td>\n",
       "    </tr>\n",
       "  </tbody>\n",
       "</table>"
      ],
      "text/plain": [
       "<IPython.core.display.HTML object>"
      ]
     },
     "metadata": {},
     "output_type": "display_data"
    }
   ],
   "source": [
    "test2=\"\"\"<action type=\"0\" player=\"Player 3\" no=\"3\" sum=\"0€\"/>\n",
    "<action type=\"0\" player=\"Player 3\" no=\"3\" sum=\"0€\"/>\n",
    "\"\"\"\n",
    "re_Action = re.compile(r'<action(?:\\s+player=\\\"%(PLYR)s\\\"|\\s+type=\\\"(?P<ATYPE>\\d+)\\\"|\\s+no=\\\"(?P<ACT>[0-9]+)\\\"|\\s+sum=\\\"(?P<BET>[%(NUM)s]+)(%(LS)s)\\\")+/>' % substitutions, re.MULTILINE)\n",
    "      \n",
    "m = re_Action.search(test)\n",
    "if m != None:\n",
    "\n",
    "    mg = m.groupdict()\n",
    "\n",
    "    df = pd.DataFrame.from_dict(mg, orient='index')\n",
    "    df = df.transpose()\n",
    "    display(HTML(df.to_html()))"
   ]
  },
  {
   "cell_type": "code",
   "execution_count": null,
   "id": "d992d936-9586-4cff-92bc-2c2d38a410a6",
   "metadata": {},
   "outputs": [],
   "source": []
  },
  {
   "cell_type": "code",
   "execution_count": null,
   "id": "33138cc7-eaa5-4b63-aabc-84cf1006bd4a",
   "metadata": {},
   "outputs": [],
   "source": []
  }
 ],
 "metadata": {
  "kernelspec": {
   "display_name": "Python 3 (ipykernel)",
   "language": "python",
   "name": "python3"
  },
  "language_info": {
   "codemirror_mode": {
    "name": "ipython",
    "version": 3
   },
   "file_extension": ".py",
   "mimetype": "text/x-python",
   "name": "python",
   "nbconvert_exporter": "python",
   "pygments_lexer": "ipython3",
   "version": "3.10.4"
  }
 },
 "nbformat": 4,
 "nbformat_minor": 5
}
