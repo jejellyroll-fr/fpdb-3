{
 "cells": [
  {
   "cell_type": "code",
   "execution_count": 1,
   "id": "1e7c9770",
   "metadata": {},
   "outputs": [
    {
     "name": "stdout",
     "output_type": "stream",
     "text": [
      "[('Actions',), ('Autorates',), ('Backings',), ('Boards',), ('CardsCache',), ('Files',), ('Gametypes',), ('Hands',), ('HandsActions',), ('HandsPlayers',), ('HandsPots',), ('HandsStove',), ('HudCache',), ('Months',), ('Players',), ('PositionsCache',), ('Rank',), ('RawHands',), ('RawTourneys',), ('Sessions',), ('SessionsCache',), ('Settings',), ('Sites',), ('StartCards',), ('TourneyTypes',), ('Tourneys',), ('TourneysCache',), ('TourneysPlayers',), ('Weeks',), ('sqlite_stat1',)]\n"
     ]
    }
   ],
   "source": [
    "import sqlite3\n",
    "path = \"C:/Users/jd/AppData/Roaming/fpdb/database/fpdb.db3\"\n",
    "#path = \"/Users/jdenis/.fpdb/database/fpdb.db3\"\n",
    "con = sqlite3.connect(path)\n",
    "\n",
    "cur = con.cursor()\n",
    "\n",
    "cur.execute(\"\"\"SELECT name FROM sqlite_master\n",
    "            WHERE type='table'\n",
    "            ORDER BY name;\"\"\")\n",
    "\n",
    "result = cur.fetchall()\n",
    "\n",
    "print(result)"
   ]
  },
  {
   "cell_type": "code",
   "execution_count": 2,
   "id": "a3eced0b",
   "metadata": {},
   "outputs": [
    {
     "name": "stdout",
     "output_type": "stream",
     "text": [
      "['id', 'tourneyTypeId', 'sessionId', 'siteTourneyNo', 'entries', 'prizepool', 'startTime', 'endTime', 'tourneyName', 'totalRebuyCount', 'totalAddOnCount', 'added', 'addedCurrency', 'comment', 'commentTs']\n",
      "[(1, 1, None, 3407415859, None, None, '2022-05-06 18:58:09', '2022-05-06 19:04:09', None, None, None, None, None, None, None)]\n"
     ]
    }
   ],
   "source": [
    "cur.execute(\"\"\"SELECT * FROM Tourneys\"\"\")\n",
    "names = list(map(lambda x: x[0], cur.description))\n",
    "result = cur.fetchall()\n",
    "print(names)\n",
    "print(result)\n"
   ]
  },
  {
   "cell_type": "code",
   "execution_count": 5,
   "id": "acd272ed",
   "metadata": {},
   "outputs": [
    {
     "name": "stdout",
     "output_type": "stream",
     "text": [
      "['id', 'tableName', 'siteHandNo', 'tourneyId', 'gametypeId', 'sessionId', 'fileId', 'startTime', 'importTime', 'seats', 'heroSeat', 'maxPosition', 'boardcard1', 'boardcard2', 'boardcard3', 'boardcard4', 'boardcard5', 'texture', 'runItTwice', 'playersVpi', 'playersAtStreet1', 'playersAtStreet2', 'playersAtStreet3', 'playersAtStreet4', 'playersAtShowdown', 'street0Raises', 'street1Raises', 'street2Raises', 'street3Raises', 'street4Raises', 'street0Pot', 'street1Pot', 'street2Pot', 'street3Pot', 'street4Pot', 'finalPot', 'comment', 'commentTs']\n",
      "[(1, '3407415859 3407415859 1', 235957610072, 1, 1, None, 1, '2022-05-06 18:58:09', '2022-10-18 09:12:11', 3, 1, 0, 39, 6, 7, 18, 0, None, 0, 1, 2, 2, 0, 0, 0, 0, 0, 1, 0, 0, 4000, 4000, 6000, 0, 0, 4000, None, None), (2, '3407415859 3407415859 1', 235957618105, 1, 1, None, 1, '2022-05-06 18:58:38', '2022-10-18 09:12:11', 3, 1, 0, 28, 51, 18, 37, 0, None, 0, 3, 2, 2, 0, 0, 0, 1, 1, 1, 0, 0, 18000, 36000, 69000, 0, 0, 36000, None, None), (3, '3407415859 3407415859 1', 235957626720, 1, 1, None, 1, '2022-05-06 18:59:11', '2022-10-18 09:12:11', 3, 1, 0, 10, 42, 44, 7, 18, None, 0, 2, 2, 2, 2, 0, 2, 1, 1, 1, 2, 0, 8000, 12000, 16000, 36000, 0, 36000, None, None), (4, '3407415859 3407415859 1', 235957634238, 1, 1, None, 1, '2022-05-06 18:59:38', '2022-10-18 09:12:11', 3, 1, 0, 0, 0, 0, 0, 0, None, 0, 1, 0, 0, 0, 0, 0, 1, 0, 0, 0, 0, 10000, 0, 0, 0, 0, 5000, None, None), (5, '3407415859 3407415859 1', 235957637253, 1, 1, None, 1, '2022-05-06 18:59:50', '2022-10-18 09:12:11', 3, 1, 0, 31, 12, 39, 24, 47, None, 0, 2, 3, 3, 2, 0, 2, 0, 0, 5, 0, 0, 6000, 6000, 70000, 70000, 0, 70000, None, None), (6, '3407415859 3407415859 1', 235957650896, 1, 1, None, 1, '2022-05-06 19:00:37', '2022-10-18 09:12:11', 2, 1, -1, 0, 0, 0, 0, 0, None, 0, 0, 0, 0, 0, 0, 0, 0, 0, 0, 0, 0, 3000, 0, 0, 0, 0, 2000, None, None), (7, '3407415859 3407415859 1', 235957652615, 1, 1, None, 1, '2022-05-06 19:00:43', '2022-10-18 09:12:11', 2, 1, -1, 39, 46, 26, 0, 0, None, 0, 2, 2, 0, 0, 0, 0, 1, 1, 0, 0, 0, 12000, 24000, 0, 0, 0, 12000, None, None), (8, '3407415859 3407415859 1', 235957659768, 1, 1, None, 1, '2022-05-06 19:01:06', '2022-10-18 09:12:11', 2, 1, -1, 3, 32, 47, 5, 51, None, 0, 1, 2, 2, 2, 0, 2, 0, 1, 1, 0, 0, 4000, 8000, 12000, 12000, 0, 12000, None, None), (9, '3407415859 3407415859 1', 235957670430, 1, 2, None, 1, '2022-05-06 19:01:38', '2022-10-18 09:12:11', 2, 1, -1, 9, 38, 31, 0, 0, None, 0, 1, 2, 0, 0, 0, 0, 0, 1, 0, 0, 0, 6000, 9000, 0, 0, 0, 6000, None, None), (10, '3407415859 3407415859 1', 235957675527, 1, 2, None, 1, '2022-05-06 19:01:53', '2022-10-18 09:12:11', 2, 1, -1, 14, 9, 38, 49, 26, None, 0, 2, 2, 2, 2, 0, 2, 1, 3, 0, 0, 0, 12000, 139000, 139000, 139000, 0, 116000, None, None), (11, '3407415859 3407415859 1', 235957684997, 1, 2, None, 1, '2022-05-06 19:02:19', '2022-10-18 09:12:11', 2, 1, -1, 31, 41, 22, 0, 0, None, 0, 1, 2, 0, 0, 0, 0, 0, 1, 0, 0, 0, 6000, 12000, 0, 0, 0, 6000, None, None), (12, '3407415859 3407415859 1', 235957690874, 1, 2, None, 1, '2022-05-06 19:02:36', '2022-10-18 09:12:11', 2, 1, -1, 15, 36, 8, 0, 0, None, 0, 1, 2, 0, 0, 0, 0, 0, 1, 0, 0, 0, 6000, 9000, 0, 0, 0, 6000, None, None), (13, '3407415859 3407415859 1', 235957695443, 1, 2, None, 1, '2022-05-06 19:02:48', '2022-10-18 09:12:11', 2, 1, -1, 47, 15, 1, 34, 0, None, 0, 1, 2, 2, 0, 0, 0, 0, 0, 1, 0, 0, 6000, 6000, 9000, 0, 0, 6000, None, None), (14, '3407415859 3407415859 1', 235957700501, 1, 2, None, 1, '2022-05-06 19:03:03', '2022-10-18 09:12:11', 2, 1, -1, 24, 34, 41, 0, 0, None, 0, 1, 2, 0, 0, 0, 0, 0, 1, 0, 0, 0, 6000, 9000, 0, 0, 0, 6000, None, None), (15, '3407415859 3407415859 1', 235957704050, 1, 2, None, 1, '2022-05-06 19:03:12', '2022-10-18 09:12:11', 2, 1, -1, 5, 36, 11, 4, 39, None, 0, 2, 2, 2, 2, 0, 2, 1, 1, 0, 0, 0, 12000, 18000, 18000, 18000, 0, 18000, None, None), (16, '3407415859 3407415859 1', 235957714043, 1, 2, None, 1, '2022-05-06 19:03:40', '2022-10-18 09:12:11', 2, 1, -1, 23, 29, 27, 21, 49, None, 0, 2, 2, 2, 2, 0, 0, 1, 0, 1, 1, 0, 12000, 12000, 24000, 36000, 0, 24000, None, None), (17, '3407415859 3407415859 1', 235957724464, 1, 2, None, 1, '2022-05-06 19:04:09', '2022-10-18 09:12:11', 2, 1, -1, 29, 21, 26, 35, 10, None, 0, 1, 2, 2, 2, 0, 2, 0, 1, 2, 0, 0, 6000, 18000, 74000, 74000, 0, 74000, None, None)]\n"
     ]
    }
   ],
   "source": [
    "cur.execute(\"\"\"SELECT * FROM Hands where tourneyId='1'\"\"\")\n",
    "names = list(map(lambda x: x[0], cur.description))\n",
    "result = cur.fetchall()\n",
    "print(names)\n",
    "print(result)"
   ]
  },
  {
   "cell_type": "code",
   "execution_count": 4,
   "id": "77076564",
   "metadata": {},
   "outputs": [
    {
     "name": "stdout",
     "output_type": "stream",
     "text": [
      "['tourneyId', 'profit', 'koCount', 'rebuyCount', 'addOnCount', 'buyin', 'fee', 'siteTourneyNo']\n",
      "[(1, -25, None, None, None, 23, 2, 3407415859)]\n"
     ]
    }
   ],
   "source": [
    "cur.execute(\"\"\"SELECT tp.tourneyId, (coalesce(tp.winnings,0) - coalesce(tt.buyIn,0) - coalesce(tt.fee,0)) as profit, tp.koCount, tp.rebuyCount, tp.addOnCount, tt.buyIn, tt.fee, t.siteTourneyNo\n",
    "            FROM TourneysPlayers tp\n",
    "            INNER JOIN Players pl      ON  (pl.id = tp.playerId)\n",
    "            INNER JOIN Tourneys t         ON  (t.id  = tp.tourneyId)\n",
    "            INNER JOIN TourneyTypes tt    ON  (tt.id = t.tourneyTypeId)\n",
    "            WHERE pl.id in (1)\n",
    "            AND   pl.siteId in (2, 9, 15, 10, 17, 14, 23, 27, 30)\n",
    "            AND   (t.startTime > '1970-01-01 04:00:00' AND t.startTime < '2100-01-02 03:59:59')\n",
    "                 AND tt.currency in ('EUR', 'USD', '')\n",
    "            GROUP BY t.startTime, tp.tourneyId, tp.winningsCurrency,\n",
    "                     tp.winnings, tp.koCount,\n",
    "                     tp.rebuyCount, tp.addOnCount,\n",
    "                     tt.buyIn, tt.fee, t.siteTourneyNo\"\"\")\n",
    "names = list(map(lambda x: x[0], cur.description))\n",
    "result = cur.fetchall()\n",
    "print(names)\n",
    "print(result)"
   ]
  },
  {
   "cell_type": "code",
   "execution_count": null,
   "id": "af9a4fa6-0412-48c4-98e5-ba170e54e1ac",
   "metadata": {},
   "outputs": [],
   "source": []
  }
 ],
 "metadata": {
  "kernelspec": {
   "display_name": "Python 3 (ipykernel)",
   "language": "python",
   "name": "python3"
  },
  "language_info": {
   "codemirror_mode": {
    "name": "ipython",
    "version": 3
   },
   "file_extension": ".py",
   "mimetype": "text/x-python",
   "name": "python",
   "nbconvert_exporter": "python",
   "pygments_lexer": "ipython3",
   "version": "3.9.7"
  },
  "vscode": {
   "interpreter": {
    "hash": "f80a5a0cc8063663f65acede7fbcc16339b9aaec7d0949debf28dca766e6420d"
   }
  }
 },
 "nbformat": 4,
 "nbformat_minor": 5
}
