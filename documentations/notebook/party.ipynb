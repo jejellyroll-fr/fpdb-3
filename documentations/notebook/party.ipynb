{
 "cells": [
  {
   "cell_type": "code",
   "execution_count": 4,
   "id": "92d8cc05-45a4-45e2-8b00-7e37395b537f",
   "metadata": {},
   "outputs": [],
   "source": [
    "import re\n",
    "import pandas as pd\n",
    "import numpy as np\n",
    "from IPython.display import display, HTML\n",
    "\n",
    "test =\"\"\"\n",
    "        #Game No : 105553145604320\n",
    "        ***** Hand History for Game 23093091932 *****\n",
    "        €2 EUR PL Omaha - Monday,October 17, 21:26:03 CEST 2022\n",
    "        Table Las Palmas de G. C. ( Real Money )\n",
    "        Seat 4 is the button\n",
    "        Total number of players : 6/6\n",
    "        seat 1: jejesat ( €2 EUR )\n",
    "        seat 2: Player2 ( €3.81 EUR )\n",
    "        seat 3: Player3 ( €0.79 EUR )\n",
    "        seat 4: Player4 ( €7.92 EUR )\n",
    "        seat 5: Player5 ( €2 EUR )\n",
    "        seat 6: Player6 ( €1.85 EUR )\n",
    "        Player6 posts small blind [€0.01 EUR].\n",
    "        jejesat posts big blind [€0.02 EUR].\n",
    "        ** Dealing down cards **\n",
    "        Dealt to jejesat [ Ah, 5h, 7d, Jd ]\n",
    "        Caipirinha00 folds\n",
    "        Kcila folds\n",
    "        sankukai99 folds\n",
    "        pomlau will be using their time bank for this hand.\n",
    "        pomlau calls [ €0.01 EUR ]\n",
    "        jejesat raises [ €0.04 EUR ]\n",
    "        pomlau calls [ €0.04 EUR ]\n",
    "        ** Dealing Flop ** [ Td, Ts, 2c ]\n",
    "        pomlau checks\n",
    "        jejesat bets [ €0.06 EUR ]\n",
    "        pomlau folds\n",
    "        jejesat does not show cards.\n",
    "        jejesat wins €0.18 EUR\n",
    "        \"\"\"\n",
    "\n",
    "\n",
    "substitutions = {\n",
    "                     'LEGAL_ISO' : \"USD|EUR\",            # legal ISO currency codes\n",
    "                            'LS' : u\"\\$|\\u20ac|\\xe2\\x82\\xac|\",    # Currency symbols - Euro(cp1252, utf-8)\n",
    "                           'NUM' : u\".,'\\dKMB\",\n",
    "                    }\n",
    "\n",
    "re_GameInfo = re.compile(u\"\"\"\n",
    "            \\*{5}\\sHand\\sHistory\\s(F|f)or\\sGame\\s(?P<HID>\\w+)\\s\\*{5}(\\s\\((?P<SITE>Poker\\sStars|PokerMaster|Party|PartyPoker|IPoker|Pacific|WPN|PokerBros)\\))?\\s+\n",
    "            (.+?\\shas\\sleft\\sthe\\stable\\.\\s+)*\n",
    "            (.+?\\sfinished\\sin\\s\\d+\\splace\\.\\s+)*\n",
    "            ((?P<CURRENCY>[%(LS)s]))?\\s*\n",
    "            (\n",
    "             ([%(LS)s]?(?P<SB>[%(NUM)s]+)/[%(LS)s]?(?P<BB>[%(NUM)s]+)\\s*(?:%(LEGAL_ISO)s)?\\s+(?P<FAST3>fastforward\\s)?((?P<LIMIT3>NL|PL|FL|)\\s+)?)|\n",
    "             ((?P<CASHBI>[%(NUM)s]+)\\s*(?:%(LEGAL_ISO)s)?\\s*)(?P<FAST2>fastforward\\s)?(?P<LIMIT2>(NL|PL|FL|))?\\s*\n",
    "            )\n",
    "            (Tourney\\s*)?\n",
    "            (?P<GAME>(Texas\\sHold\\'?em|Hold\\'?em|Omaha\\sHi-Lo|Omaha(\\sHi)?|7\\sCard\\sStud\\sHi-Lo|7\\sCard\\sStud|Double\\sHold\\'?em|Short\\sDeck))\\s*\n",
    "            (Game\\sTable\\s*)?\n",
    "            (\n",
    "             (\\((?P<LIMIT>(NL|PL|FL|Limit|))\\)\\s*)?\n",
    "             (\\((?P<SNG>SNG|STT|MTT)(\\sJackPot)?\\sTournament\\s\\#(?P<TOURNO>\\d+)\\)\\s*)?\n",
    "            )?\n",
    "            (?:\\s\\(Buyin\\s(?P<BUYIN>[%(LS)s][%(NUM)s]+)\\s\\+\\s(?P<FEE>[%(LS)s][%(NUM)s]+)\\))?\n",
    "            \\s*-\\s*\n",
    "            (?P<DATETIME>.+)\n",
    "            \"\"\" % substitutions, re.VERBOSE | re.UNICODE)\n"
   ]
  },
  {
   "cell_type": "code",
   "execution_count": 5,
   "id": "95592446-10ee-4b51-bda7-2de9cd0420b4",
   "metadata": {},
   "outputs": [
    {
     "data": {
      "text/html": [
       "<table border=\"1\" class=\"dataframe\">\n",
       "  <thead>\n",
       "    <tr style=\"text-align: right;\">\n",
       "      <th></th>\n",
       "      <th>HID</th>\n",
       "      <th>SITE</th>\n",
       "      <th>CURRENCY</th>\n",
       "      <th>SB</th>\n",
       "      <th>BB</th>\n",
       "      <th>FAST3</th>\n",
       "      <th>LIMIT3</th>\n",
       "      <th>CASHBI</th>\n",
       "      <th>FAST2</th>\n",
       "      <th>LIMIT2</th>\n",
       "      <th>GAME</th>\n",
       "      <th>LIMIT</th>\n",
       "      <th>SNG</th>\n",
       "      <th>TOURNO</th>\n",
       "      <th>BUYIN</th>\n",
       "      <th>FEE</th>\n",
       "      <th>DATETIME</th>\n",
       "    </tr>\n",
       "  </thead>\n",
       "  <tbody>\n",
       "    <tr>\n",
       "      <th>0</th>\n",
       "      <td>23093091932</td>\n",
       "      <td>None</td>\n",
       "      <td>€</td>\n",
       "      <td>None</td>\n",
       "      <td>None</td>\n",
       "      <td>None</td>\n",
       "      <td>None</td>\n",
       "      <td>2</td>\n",
       "      <td>None</td>\n",
       "      <td>PL</td>\n",
       "      <td>Omaha</td>\n",
       "      <td>None</td>\n",
       "      <td>None</td>\n",
       "      <td>None</td>\n",
       "      <td>None</td>\n",
       "      <td>None</td>\n",
       "      <td>Monday,October 17, 21:26:03 CEST 2022</td>\n",
       "    </tr>\n",
       "  </tbody>\n",
       "</table>"
      ],
      "text/plain": [
       "<IPython.core.display.HTML object>"
      ]
     },
     "metadata": {},
     "output_type": "display_data"
    }
   ],
   "source": [
    "m = re_GameInfo.search(test)\n",
    "if m != None:\n",
    "\n",
    "    mg = m.groupdict()\n",
    "\n",
    "    df = pd.DataFrame.from_dict(mg, orient='index')\n",
    "    df = df.transpose()\n",
    "    display(HTML(df.to_html()))"
   ]
  },
  {
   "cell_type": "code",
   "execution_count": 6,
   "id": "9e31fcaa-7c63-4483-a0be-ed99ecea5ba3",
   "metadata": {},
   "outputs": [],
   "source": [
    "re_HandInfo = re.compile(u\"\"\"\n",
    "            Table\\s(?P<TABLE>.+?)?\\s+\n",
    "            ((?: \\#|\\(|)(?P<TABLENO>\\d+)\\)?\\s+)?\n",
    "            (\\(No\\sDP\\)\\s)?\n",
    "            \\(\\s?(?P<PLAY>Real|Play)\\s+Money\\s?\\)\\s+(--\\s*)? # FIXME: check if play money is correct\n",
    "            Seat\\s+(?P<BUTTON>\\d+)\\sis\\sthe\\sbutton\n",
    "            (\\s+Total\\s+number\\s+of\\s+players\\s+\\:\\s+(?P<PLYRS>\\d+)/?(?P<MAX>\\d+)?)?\n",
    "            \"\"\", re.VERBOSE|re.MULTILINE|re.DOTALL)"
   ]
  },
  {
   "cell_type": "code",
   "execution_count": 7,
   "id": "3ca42594-6e0e-45f2-b9df-7fdc21302b05",
   "metadata": {},
   "outputs": [
    {
     "data": {
      "text/html": [
       "<table border=\"1\" class=\"dataframe\">\n",
       "  <thead>\n",
       "    <tr style=\"text-align: right;\">\n",
       "      <th></th>\n",
       "      <th>TABLE</th>\n",
       "      <th>TABLENO</th>\n",
       "      <th>PLAY</th>\n",
       "      <th>BUTTON</th>\n",
       "      <th>PLYRS</th>\n",
       "      <th>MAX</th>\n",
       "    </tr>\n",
       "  </thead>\n",
       "  <tbody>\n",
       "    <tr>\n",
       "      <th>0</th>\n",
       "      <td>Las Palmas de G. C.</td>\n",
       "      <td>None</td>\n",
       "      <td>Real</td>\n",
       "      <td>4</td>\n",
       "      <td>6</td>\n",
       "      <td>6</td>\n",
       "    </tr>\n",
       "  </tbody>\n",
       "</table>"
      ],
      "text/plain": [
       "<IPython.core.display.HTML object>"
      ]
     },
     "metadata": {},
     "output_type": "display_data"
    }
   ],
   "source": [
    "m = re_HandInfo.search(test)\n",
    "if m != None:\n",
    "\n",
    "    mg = m.groupdict()\n",
    "\n",
    "    df = pd.DataFrame.from_dict(mg, orient='index')\n",
    "    df = df.transpose()\n",
    "    display(HTML(df.to_html()))"
   ]
  },
  {
   "cell_type": "code",
   "execution_count": 8,
   "id": "939ef463-0845-4d29-9e83-4876f4b0d9b7",
   "metadata": {},
   "outputs": [],
   "source": [
    "re_GameInfoTrny1     = re.compile(u\"\"\"\n",
    "            \\*{5}\\sHand\\sHistory\\s(F|f)or\\sGame\\s(?P<HID>\\w+)\\s\\*{5}\\s+\n",
    "            (?P<LIMIT>(NL|PL|FL|))\\s*\n",
    "            (?P<GAME>(Texas\\sHold\\'em|Hold\\'?em|Omaha\\sHi-Lo|Omaha(\\sHi)?|7\\sCard\\sStud\\sHi-Lo|7\\sCard\\sStud|Double\\sHold\\'em|Short\\sDeck))\\s+\n",
    "            (?:(?P<BUYIN>[%(LS)s]?\\s?[%(NUM)s]+)\\s*(?P<BUYIN_CURRENCY>%(LEGAL_ISO)s)?\\s*Buy-in\\s+)?\n",
    "            (\\+\\s(?P<FEE>[%(LS)s]?\\s?[%(NUM)s]+)\\sEntry\\sFee\\s+)?\n",
    "            Trny:\\s?(?P<TOURNO>\\d+)\\s+\n",
    "            Level:\\s*(?P<LEVEL>\\d+)\\s+\n",
    "            ((Blinds|Stakes)(?:-Antes)?)\\(\n",
    "                (?P<SB>[%(NUM)s ]+)\\s*\n",
    "                /(?P<BB>[%(NUM)s ]+)\n",
    "                (?:\\s*-\\s*(?P<ANTE>[%(NUM)s ]+)\\$?)?\n",
    "            \\)\n",
    "            \\s*\\-\\s*\n",
    "            (?P<DATETIME>.+)\n",
    "            \"\"\" % substitutions, re.VERBOSE | re.UNICODE)"
   ]
  },
  {
   "cell_type": "code",
   "execution_count": 9,
   "id": "ffb249e3-f162-46d1-bef3-6f6070dd8437",
   "metadata": {},
   "outputs": [],
   "source": [
    "m = re_GameInfoTrny1.search(test)\n",
    "if m != None:\n",
    "\n",
    "    mg = m.groupdict()\n",
    "\n",
    "    df = pd.DataFrame.from_dict(mg, orient='index')\n",
    "    df = df.transpose()\n",
    "    display(HTML(df.to_html()))"
   ]
  },
  {
   "cell_type": "code",
   "execution_count": 10,
   "id": "3c1c6b13-3490-4c25-ab92-eb0fd573af34",
   "metadata": {},
   "outputs": [],
   "source": [
    "re_GameInfoTrny2     = re.compile(u\"\"\"\n",
    "            \\*{5}\\sHand\\sHistory\\s(F|f)or\\sGame\\s(?P<HID>\\w+)\\s\\*{5}\\s+\n",
    "            (?P<LIMIT>(NL|PL|FL|))\\s*\n",
    "            (?P<GAME>(Texas\\sHold\\'em|Hold\\'?em|Omaha\\sHi-Lo|Omaha(\\sHi)?|7\\sCard\\sStud\\sHi-Lo|7\\sCard\\sStud|Double\\sHold\\'em|Short\\sDeck))\\s+\n",
    "            (?:(?P<BUYIN>[%(LS)s]?\\s?[%(NUM)s]+)\\s*(?P<BUYIN_CURRENCY>%(LEGAL_ISO)s)?\\s*Buy-in\\s+)?\n",
    "            (\\+\\s(?P<FEE>[%(LS)s]?\\s?[%(NUM)s]+)\\sEntry\\sFee\\s+)?\n",
    "            \\s*\\-\\s*\n",
    "            (?P<DATETIME>.+)\n",
    "            \"\"\" % substitutions, re.VERBOSE | re.UNICODE)"
   ]
  },
  {
   "cell_type": "code",
   "execution_count": 11,
   "id": "698a5630-b1dc-4957-9e22-1fa9c8fabf48",
   "metadata": {},
   "outputs": [],
   "source": [
    "m = re_GameInfoTrny2.search(test)\n",
    "if m != None:\n",
    "\n",
    "    mg = m.groupdict()\n",
    "\n",
    "    df = pd.DataFrame.from_dict(mg, orient='index')\n",
    "    df = df.transpose()\n",
    "    display(HTML(df.to_html()))"
   ]
  },
  {
   "cell_type": "code",
   "execution_count": 12,
   "id": "a0410fee-b000-4fef-b30e-4840dd632e1c",
   "metadata": {},
   "outputs": [],
   "source": [
    "re_GameInfoTrny3     = re.compile(u\"\"\"\n",
    "            \\*{5}\\sHand\\sHistory\\s(F|f)or\\sGame\\s(?P<HID>\\w+)\\s\\*{5}\\s\\((?P<SITE>Poker\\sStars|PokerMaster|Party|IPoker|Pacific|WPN|PokerBros)\\)\\s+\n",
    "            Tourney\\sHand\\s\n",
    "            (?P<LIMIT>(NL|PL|FL|))\\s*\n",
    "            (?P<GAME>(Texas\\sHold\\'em|Hold\\'?em|Omaha\\sHi-Lo|Omaha(\\sHi)?|7\\sCard\\sStud\\sHi-Lo|7\\sCard\\sStud|Double\\sHold\\'em|Short\\sDeck))\\s+\n",
    "            \\s*\\-\\s*\n",
    "            (?P<DATETIME>.+)\n",
    "            \"\"\" % substitutions, re.VERBOSE | re.UNICODE)"
   ]
  },
  {
   "cell_type": "code",
   "execution_count": 13,
   "id": "d3814c4c-7cb1-4f2b-b73a-7644e0e2bbd7",
   "metadata": {},
   "outputs": [],
   "source": [
    "m = re_GameInfoTrny3.search(test)\n",
    "if m != None:\n",
    "\n",
    "    mg = m.groupdict()\n",
    "\n",
    "    df = pd.DataFrame.from_dict(mg, orient='index')\n",
    "    df = df.transpose()\n",
    "    display(HTML(df.to_html()))"
   ]
  },
  {
   "cell_type": "code",
   "execution_count": 14,
   "id": "d01ef7ca-3890-4591-b9ab-14e62ee5eba7",
   "metadata": {},
   "outputs": [],
   "source": [
    "re_Blinds = re.compile(\"\"\"\n",
    "            ((Blinds|Stakes)(?:-Antes)?)\\(\n",
    "                (?P<SB>[%(NUM)s ]+)\\s*\n",
    "                /(?P<BB>[%(NUM)s ]+)\n",
    "                (?:\\s*-\\s*(?P<ANTE>[%(NUM)s ]+)\\$?)?\n",
    "            \\)$\"\"\" % substitutions, re.VERBOSE | re.MULTILINE)"
   ]
  },
  {
   "cell_type": "code",
   "execution_count": 15,
   "id": "95108b09-4bc0-4d5e-bff5-84bf5034f2b3",
   "metadata": {},
   "outputs": [],
   "source": [
    "m = re_Blinds.search(test)\n",
    "if m != None:\n",
    "\n",
    "    mg = m.groupdict()\n",
    "\n",
    "    df = pd.DataFrame.from_dict(mg, orient='index')\n",
    "    df = df.transpose()\n",
    "    display(HTML(df.to_html()))"
   ]
  },
  {
   "cell_type": "code",
   "execution_count": 16,
   "id": "82d66f28-a227-4573-b244-f3e75da6989c",
   "metadata": {},
   "outputs": [],
   "source": [
    "re_TourNoLevel = re.compile(\"\"\"\n",
    "            Trny:\\s?(?P<TOURNO>\\d+)\\s+\n",
    "            Level:\\s*(?P<LEVEL>\\d+)\n",
    "        \"\"\", re.VERBOSE)"
   ]
  },
  {
   "cell_type": "code",
   "execution_count": 17,
   "id": "212470f5-f864-460a-b173-95a0b2fb9f89",
   "metadata": {},
   "outputs": [],
   "source": [
    "m = re_TourNoLevel.search(test)\n",
    "if m != None:\n",
    "\n",
    "    mg = m.groupdict()\n",
    "\n",
    "    df = pd.DataFrame.from_dict(mg, orient='index')\n",
    "    df = df.transpose()\n",
    "    display(HTML(df.to_html()))"
   ]
  },
  {
   "cell_type": "code",
   "execution_count": 18,
   "id": "02611b5c-4b06-46e4-bdca-8a29b0d537aa",
   "metadata": {},
   "outputs": [],
   "source": [
    "re_PlayerInfo   = re.compile(u\"\"\"\n",
    "          (S|s)eat\\s?(?P<SEAT>\\d+):\\s\n",
    "          (?P<PNAME>.*)\\s\n",
    "          \\(\\s*[%(LS)s]?(?P<CASH>[%(NUM)s]+)\\s*(?:%(LEGAL_ISO)s|)\\s*\\)\n",
    "          \"\"\" % substitutions, re.VERBOSE| re.UNICODE)"
   ]
  },
  {
   "cell_type": "code",
   "execution_count": 19,
   "id": "1639db17-7bbd-48d4-bdbe-e93fd10f4c5f",
   "metadata": {},
   "outputs": [
    {
     "data": {
      "text/html": [
       "<table border=\"1\" class=\"dataframe\">\n",
       "  <thead>\n",
       "    <tr style=\"text-align: right;\">\n",
       "      <th></th>\n",
       "      <th>SEAT</th>\n",
       "      <th>PNAME</th>\n",
       "      <th>CASH</th>\n",
       "    </tr>\n",
       "  </thead>\n",
       "  <tbody>\n",
       "    <tr>\n",
       "      <th>0</th>\n",
       "      <td>1</td>\n",
       "      <td>jejesat</td>\n",
       "      <td>2</td>\n",
       "    </tr>\n",
       "  </tbody>\n",
       "</table>"
      ],
      "text/plain": [
       "<IPython.core.display.HTML object>"
      ]
     },
     "metadata": {},
     "output_type": "display_data"
    }
   ],
   "source": [
    "m = re_PlayerInfo.search(test)\n",
    "if m != None:\n",
    "\n",
    "    mg = m.groupdict()\n",
    "\n",
    "    df = pd.DataFrame.from_dict(mg, orient='index')\n",
    "    df = df.transpose()\n",
    "    display(HTML(df.to_html()))"
   ]
  },
  {
   "cell_type": "code",
   "execution_count": 20,
   "id": "10c93d61-20e7-4de6-9bd7-84de5e9c77e5",
   "metadata": {},
   "outputs": [],
   "source": [
    "re_NewLevel = re.compile(u\"Blinds(-Antes)?\\((?P<SB>[%(NUM)s ]+)/(?P<BB>[%(NUM)s ]+)(?:\\s*-\\s*(?P<ANTE>[%(NUM)s ]+))?\\)\" % substitutions, re.VERBOSE|re.MULTILINE|re.DOTALL)"
   ]
  },
  {
   "cell_type": "code",
   "execution_count": 21,
   "id": "f48c1623-72a5-4489-a3c9-41a6a2263f92",
   "metadata": {},
   "outputs": [],
   "source": [
    "m = re_NewLevel.search(test)\n",
    "if m != None:\n",
    "\n",
    "    mg = m.groupdict()\n",
    "\n",
    "    df = pd.DataFrame.from_dict(mg, orient='index')\n",
    "    df = df.transpose()\n",
    "    display(HTML(df.to_html()))"
   ]
  },
  {
   "cell_type": "code",
   "execution_count": 22,
   "id": "c9ccb325-a282-45be-8482-ae471c0b0a59",
   "metadata": {},
   "outputs": [],
   "source": [
    "re_CountedSeats = re.compile(\"Total\\s+number\\s+of\\s+players\\s*:\\s*(?P<COUNTED_SEATS>\\d+)\", re.MULTILINE)"
   ]
  },
  {
   "cell_type": "code",
   "execution_count": 23,
   "id": "88bd376a-d06f-40b8-a61b-3b63b877da6a",
   "metadata": {},
   "outputs": [
    {
     "data": {
      "text/html": [
       "<table border=\"1\" class=\"dataframe\">\n",
       "  <thead>\n",
       "    <tr style=\"text-align: right;\">\n",
       "      <th></th>\n",
       "      <th>COUNTED_SEATS</th>\n",
       "    </tr>\n",
       "  </thead>\n",
       "  <tbody>\n",
       "    <tr>\n",
       "      <th>0</th>\n",
       "      <td>6</td>\n",
       "    </tr>\n",
       "  </tbody>\n",
       "</table>"
      ],
      "text/plain": [
       "<IPython.core.display.HTML object>"
      ]
     },
     "metadata": {},
     "output_type": "display_data"
    }
   ],
   "source": [
    "m = re_CountedSeats.search(test)\n",
    "if m != None:\n",
    "\n",
    "    mg = m.groupdict()\n",
    "\n",
    "    df = pd.DataFrame.from_dict(mg, orient='index')\n",
    "    df = df.transpose()\n",
    "    display(HTML(df.to_html()))"
   ]
  },
  {
   "cell_type": "code",
   "execution_count": 24,
   "id": "48f2b2a2-ec1e-46f8-9c76-46804081b681",
   "metadata": {},
   "outputs": [],
   "source": [
    "re_Identify     = re.compile(u'\\*{5}\\sHand\\sHistory\\s[fF]or\\sGame\\s\\d+\\w+?\\s')"
   ]
  },
  {
   "cell_type": "code",
   "execution_count": 25,
   "id": "116f0421-9c8c-490b-aadf-c562533b250f",
   "metadata": {},
   "outputs": [
    {
     "data": {
      "text/html": [
       "<table border=\"1\" class=\"dataframe\">\n",
       "  <thead>\n",
       "    <tr style=\"text-align: right;\">\n",
       "      <th></th>\n",
       "    </tr>\n",
       "  </thead>\n",
       "  <tbody>\n",
       "  </tbody>\n",
       "</table>"
      ],
      "text/plain": [
       "<IPython.core.display.HTML object>"
      ]
     },
     "metadata": {},
     "output_type": "display_data"
    }
   ],
   "source": [
    "m = re_Identify.search(test)\n",
    "if m != None:\n",
    "\n",
    "    mg = m.groupdict()\n",
    "\n",
    "    df = pd.DataFrame.from_dict(mg, orient='index')\n",
    "    df = df.transpose()\n",
    "    display(HTML(df.to_html()))"
   ]
  },
  {
   "cell_type": "code",
   "execution_count": 26,
   "id": "f3736b05-c45d-4cb3-981f-b048be950b1f",
   "metadata": {},
   "outputs": [],
   "source": [
    "re_Button       = re.compile('Seat (?P<BUTTON>\\d+) is the button', re.MULTILINE)"
   ]
  },
  {
   "cell_type": "code",
   "execution_count": 28,
   "id": "353be330-9b46-43c7-9045-96d5f7358b44",
   "metadata": {},
   "outputs": [
    {
     "data": {
      "text/html": [
       "<table border=\"1\" class=\"dataframe\">\n",
       "  <thead>\n",
       "    <tr style=\"text-align: right;\">\n",
       "      <th></th>\n",
       "      <th>BUTTON</th>\n",
       "    </tr>\n",
       "  </thead>\n",
       "  <tbody>\n",
       "    <tr>\n",
       "      <th>0</th>\n",
       "      <td>4</td>\n",
       "    </tr>\n",
       "  </tbody>\n",
       "</table>"
      ],
      "text/plain": [
       "<IPython.core.display.HTML object>"
      ]
     },
     "metadata": {},
     "output_type": "display_data"
    }
   ],
   "source": [
    "m = re_Button.search(test)\n",
    "if m != None:\n",
    "\n",
    "    mg = m.groupdict()\n",
    "\n",
    "    df = pd.DataFrame.from_dict(mg, orient='index')\n",
    "    df = df.transpose()\n",
    "    display(HTML(df.to_html()))"
   ]
  },
  {
   "cell_type": "code",
   "execution_count": 29,
   "id": "b1d2578c-c006-44ff-939e-7195c769102b",
   "metadata": {},
   "outputs": [],
   "source": [
    "re_Board        = re.compile(r\"\\[(?P<CARDS>.+)\\]\")"
   ]
  },
  {
   "cell_type": "code",
   "execution_count": 30,
   "id": "69d56a57-857a-4b3f-b83d-be7c3f89fb98",
   "metadata": {},
   "outputs": [
    {
     "data": {
      "text/html": [
       "<table border=\"1\" class=\"dataframe\">\n",
       "  <thead>\n",
       "    <tr style=\"text-align: right;\">\n",
       "      <th></th>\n",
       "      <th>CARDS</th>\n",
       "    </tr>\n",
       "  </thead>\n",
       "  <tbody>\n",
       "    <tr>\n",
       "      <th>0</th>\n",
       "      <td>€0.01 EUR</td>\n",
       "    </tr>\n",
       "  </tbody>\n",
       "</table>"
      ],
      "text/plain": [
       "<IPython.core.display.HTML object>"
      ]
     },
     "metadata": {},
     "output_type": "display_data"
    }
   ],
   "source": [
    "m = re_Board.search(test)\n",
    "if m != None:\n",
    "\n",
    "    mg = m.groupdict()\n",
    "\n",
    "    df = pd.DataFrame.from_dict(mg, orient='index')\n",
    "    df = df.transpose()\n",
    "    display(HTML(df.to_html()))"
   ]
  },
  {
   "cell_type": "code",
   "execution_count": 33,
   "id": "f7264a14-3871-46d9-981d-93f834ad282e",
   "metadata": {},
   "outputs": [],
   "source": [
    " re_NoSmallBlind = re.compile(\n",
    "                    '^There is no Small Blind in this hand as the Big Blind '\n",
    "                    'of the previous hand left the table', re.MULTILINE)\n",
    "m = re_NoSmallBlind.search(test)\n",
    "if m != None:\n",
    "\n",
    "    mg = m.groupdict()\n",
    "\n",
    "    df = pd.DataFrame.from_dict(mg, orient='index')\n",
    "    df = df.transpose()\n",
    "    display(HTML(df.to_html()))"
   ]
  },
  {
   "cell_type": "code",
   "execution_count": null,
   "id": "bd53bd62-94ac-40a5-87c3-f68b83071779",
   "metadata": {},
   "outputs": [],
   "source": []
  }
 ],
 "metadata": {
  "kernelspec": {
   "display_name": "Python 3 (ipykernel)",
   "language": "python",
   "name": "python3"
  },
  "language_info": {
   "codemirror_mode": {
    "name": "ipython",
    "version": 3
   },
   "file_extension": ".py",
   "mimetype": "text/x-python",
   "name": "python",
   "nbconvert_exporter": "python",
   "pygments_lexer": "ipython3",
   "version": "3.9.7"
  }
 },
 "nbformat": 4,
 "nbformat_minor": 5
}
