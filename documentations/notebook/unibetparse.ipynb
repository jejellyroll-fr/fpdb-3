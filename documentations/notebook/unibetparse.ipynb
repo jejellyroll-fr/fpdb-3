{
 "cells": [
  {
   "cell_type": "code",
   "execution_count": 2,
   "id": "8d465b05",
   "metadata": {},
   "outputs": [
    {
     "name": "stdout",
     "output_type": "stream",
     "text": [
      "Game #642631542: Table €4 PL - 0.02/0.04 - Pot Limit Omaha - 21:54:43 2022/04/04\n",
      "*** Seated players ***\n",
      "Seat 1: dirty3 (€2.67)\n",
      "Seat 3: HGJJGHJGJHG (€7.63)\n",
      "Seat 4: Deenka (€2.56)\n",
      "Seat 5: Tounsi44 (€0.62)\n",
      "*** Blinds and button ***\n",
      "dirty3 has the button\n",
      "HGJJGHJGJHG posts small blind €0.02\n",
      "Deenka posts big blind €0.04\n",
      "*** Hole cards ***\n",
      "Dealt to HGJJGHJGJHG [9c 7d 5h Jc]\n",
      "Dealt in Deenka\n",
      "Dealt in Tounsi44\n",
      "Dealt in dirty3\n",
      "*** Preflop ***\n",
      "Tounsi44 calls €0.04\n",
      "dirty3 calls €0.04\n",
      "HGJJGHJGJHG calls €0.02\n",
      "Deenka checks\n",
      "*** Flop *** [Js 8d 6h]\n",
      "HGJJGHJGJHG bets €0.07\n",
      "Deenka folds\n",
      "Tounsi44 calls €0.07\n",
      "dirty3 calls €0.07\n",
      "*** Turn *** [Js 8d 6h] [4h]\n",
      "HGJJGHJGJHG bets €0.26\n",
      "Tounsi44 folds\n",
      "dirty3 folds\n",
      "Uncalled bet returned to HGJJGHJGJHG: €0.26\n",
      "HGJJGHJGJHG wins €0.35\n",
      "*** Summary ***\n",
      "Total pot €0.37 Rake €0.02\n",
      "Seat 1: dirty3: bet €0.11 and won €0, net result: €-0.11\n",
      "Seat 3: HGJJGHJGJHG: bet €0.37 and won €0.61, net result: €0.24\n",
      "Seat 4: Deenka: bet €0.04 and won €0, net result: €-0.04\n",
      "Seat 5: Tounsi44: bet €0.11 and won €0, net result: €-0.11\n"
     ]
    }
   ],
   "source": [
    "hand1 = 'Game #643794271: Table €4 PL - 0.02/0.04 - Pot Limit Omaha - 21:43:44 2022/04/06\\n*** Seated players ***\\nSeat 1: Nonodiinho (€3.04)\\nSeat 2: lava (€4.07)\\nSeat 3: ExtremeBleu (€4.20)\\nSeat 4: Cheytan (€3.57)\\nSeat 5: HGJJGHJGJHG (€9.34)\\nSeat 6: albanmuller (€2.48) (sitting out)\\n*** Blinds and button ***\\nlava has the button\\nExtremeBleu posts small blind €0.02\\nCheytan posts big blind €0.04\\n*** Hole cards ***\\nDealt in ExtremeBleu\\nDealt in Cheytan\\nDealt to HGJJGHJGJHG [Ah 3c As 8h]\\nDealt in Nonodiinho\\nDealt to lava [Ac Ks Kh 8c]\\n*** Preflop ***\\nHGJJGHJGJHG raises €0.14 to €0.14\\nNonodiinho calls €0.14\\nlava raises €0.62 to €0.62\\nExtremeBleu folds\\nCheytan folds\\nHGJJGHJGJHG raises €1.92 to €2.06\\nNonodiinho folds\\nlava calls €1.44\\n*** Flop *** [3h Th 6h]\\nHGJJGHJGJHG bets €4.03\\nlava calls €2.01, and is all-in\\nUncalled bet returned to HGJJGHJGJHG: €2.02\\n*** Showdown ***\\n*** Turn *** [3h Th 6h] [8d]\\n*** River *** [3h Th 6h] [8d] [2s]\\nlava shows [Ac Ks Kh 8c], A Pair of Kings\\nHGJJGHJGJHG shows [Ah 3c As 8h], A Flush\\nHGJJGHJGJHG wins €7.79\\n*** Summary ***\\nTotal pot €8.34 Rake €0.55\\nSeat 1: Nonodiinho: bet €0.14 and won €0, net result: €-0.14\\nSeat 2: lava: bet €4.07 and won €0, net result: €-4.07\\nSeat 3: ExtremeBleu: bet €0.02 and won €0, net result: €-0.02\\nSeat 4: Cheytan: bet €0.04 and won €0, net result: €-0.04\\nSeat 5: HGJJGHJGJHG: bet €6.09 and won €9.81, net result: €3.72'\n",
    "hand = 'Game #642631542: Table €4 PL - 0.02/0.04 - Pot Limit Omaha - 21:54:43 2022/04/04\\n*** Seated players ***\\nSeat 1: dirty3 (€2.67)\\nSeat 3: HGJJGHJGJHG (€7.63)\\nSeat 4: Deenka (€2.56)\\nSeat 5: Tounsi44 (€0.62)\\n*** Blinds and button ***\\ndirty3 has the button\\nHGJJGHJGJHG posts small blind €0.02\\nDeenka posts big blind €0.04\\n*** Hole cards ***\\nDealt to HGJJGHJGJHG [9c 7d 5h Jc]\\nDealt in Deenka\\nDealt in Tounsi44\\nDealt in dirty3\\n*** Preflop ***\\nTounsi44 calls €0.04\\ndirty3 calls €0.04\\nHGJJGHJGJHG calls €0.02\\nDeenka checks\\n*** Flop *** [Js 8d 6h]\\nHGJJGHJGJHG bets €0.07\\nDeenka folds\\nTounsi44 calls €0.07\\ndirty3 calls €0.07\\n*** Turn *** [Js 8d 6h] [4h]\\nHGJJGHJGJHG bets €0.26\\nTounsi44 folds\\ndirty3 folds\\nUncalled bet returned to HGJJGHJGJHG: €0.26\\nHGJJGHJGJHG wins €0.35\\n*** Summary ***\\nTotal pot €0.37 Rake €0.02\\nSeat 1: dirty3: bet €0.11 and won €0, net result: €-0.11\\nSeat 3: HGJJGHJGJHG: bet €0.37 and won €0.61, net result: €0.24\\nSeat 4: Deenka: bet €0.04 and won €0, net result: €-0.04\\nSeat 5: Tounsi44: bet €0.11 and won €0, net result: €-0.11'\n",
    "print(hand)\n"
   ]
  },
  {
   "cell_type": "code",
   "execution_count": null,
   "id": "e519f0c6",
   "metadata": {},
   "outputs": [],
   "source": [
    "\n",
    "\n"
   ]
  },
  {
   "cell_type": "raw",
   "id": "c8e9ad2d",
   "metadata": {},
   "source": [
    "function order in parser:\n",
    "def determineGameType\n",
    "def readPlayerStacks\n",
    "def compilePlayerRegexs\n",
    "def readBlinds\n",
    "def readButton\n",
    "def readShowdownActions\n",
    "def readCommunityCards\n",
    "\n"
   ]
  },
  {
   "cell_type": "code",
   "execution_count": 3,
   "id": "401f1ade",
   "metadata": {},
   "outputs": [
    {
     "name": "stdout",
     "output_type": "stream",
     "text": [
      "1\n"
     ]
    }
   ],
   "source": [
    "import re\n",
    "\n",
    "substitutions = {\n",
    "                     'LEGAL_ISO' : \"USD|EUR|GBP|CAD|FPP|SC|INR|CNY\",      # legal ISO currency codes\n",
    "                            'LS' : u\"\\$|\\xe2\\x82\\xac|\\u20ac|\\£|\\u20b9|\\¥|\", # legal currency symbols - Euro(cp1252, utf-8)\n",
    "                           'PLYR': r'\\s?(?P<PNAME>.+?)',\n",
    "                            'CUR': u\"(\\$|\\xe2\\x82\\xac|\\u20ac||\\£|\\u20b9|\\¥|)\",\n",
    "                          'BRKTS': r'(\\(button\\) |\\(small blind\\) |\\(big blind\\) |\\(button blind\\) |\\(button\\) \\(small blind\\) |\\(small blind/button\\) |\\(button\\) \\(big blind\\) )?',\n",
    "                    }\n",
    "re_Button       = re.compile('(?P<BUTTON>\\w+)\\shas\\sthe\\sbutton', re.MULTILINE)\n",
    "re_PlayerInfo   = re.compile(u\"\"\"\n",
    "          Seat\\s(?P<SEAT>[0-9]+):\\s(?P<PNAME>\\w+)\\s\\((€|$|£)(?P<CASH>[,.0-9]+)\\)\"\"\" % substitutions, \n",
    "          re.MULTILINE|re.VERBOSE)\n",
    "\n",
    "pre, post = hand.split('*** Summary ***')\n",
    "m = re_Button.search(hand)\n",
    "m2 = re_PlayerInfo.finditer(pre)\n",
    "\n",
    "if m:\n",
    "    for b in m2:\n",
    "        if b.group('PNAME') == m.group('BUTTON'):\n",
    "            print(int(b.group('SEAT')))\n"
   ]
  },
  {
   "cell_type": "code",
   "execution_count": 4,
   "id": "2bf4080e",
   "metadata": {},
   "outputs": [
    {
     "name": "stdout",
     "output_type": "stream",
     "text": [
      "\n",
      "Dealt to HGJJGHJGJHG [9c 7d 5h Jc]\n",
      "Dealt in Deenka\n",
      "Dealt in Tounsi44\n",
      "Dealt in dirty3\n",
      "\n",
      "<re.Match object; span=(104, 126), match='Seat 1: dirty3 (€2.67)'>\n",
      "<re.Match object; span=(127, 154), match='Seat 3: HGJJGHJGJHG (€7.63)'>\n",
      "<re.Match object; span=(155, 177), match='Seat 4: Deenka (€2.56)'>\n",
      "<re.Match object; span=(178, 202), match='Seat 5: Tounsi44 (€0.62)'>\n",
      "<re.Match object; span=(1, 35), match='Dealt to HGJJGHJGJHG [9c 7d 5h Jc]'>\n"
     ]
    }
   ],
   "source": [
    "substitutions = {\n",
    "                     'LEGAL_ISO' : \"USD|EUR|GBP|CAD|FPP|SC|INR|CNY\",      # legal ISO currency codes\n",
    "                            'LS' : u\"\\$|\\xe2\\x82\\xac|\\u20ac|\\£|\\u20b9|\\¥|\", # legal currency symbols - Euro(cp1252, utf-8)\n",
    "                           'PLYR': r'\\s?(?P<PNAME>.+?)',\n",
    "                            'CUR': u\"(\\$|\\xe2\\x82\\xac|\\u20ac||\\£|\\u20b9|\\¥|)\",\n",
    "                          'BRKTS': r'(\\(button\\) |\\(small blind\\) |\\(big blind\\) |\\(button blind\\) |\\(button\\) \\(small blind\\) |\\(small blind/button\\) |\\(button\\) \\(big blind\\) )?',\n",
    "                    }\n",
    "\n",
    "re_HeroCards = re.compile(\"Dealt\\sto\\s%(PLYR)s(?: \\[(?P<OLDCARDS>.+?)\\])?( \\[(?P<NEWCARDS>.+?)\\])\" % substitutions, re.MULTILINE)    \n",
    "\n",
    "pre, post = hand.split('*** Preflop ***')\n",
    "\n",
    "pre1,pre2 = pre.split('*** Hole cards ***')\n",
    "print(pre2)\n",
    "m = re_HeroCards.search(pre2)\n",
    "m2 = re_PlayerInfo.finditer(hand)\n",
    "\n",
    "\n",
    "for b in m2:\n",
    "    print(b)\n",
    "\n",
    "print(m)      \n",
    "        \n",
    "       \n",
    "\n"
   ]
  },
  {
   "cell_type": "code",
   "execution_count": 8,
   "id": "4494d399",
   "metadata": {},
   "outputs": [
    {
     "name": "stdout",
     "output_type": "stream",
     "text": [
      "<re.Match object; span=(861, 924), match='Seat 3: HGJJGHJGJHG: bet €0.37 and won €0.61, net>\n",
      "HGJJGHJGJHG 0.24\n"
     ]
    }
   ],
   "source": [
    "re_CollectPot       = re.compile(r\"Seat (?P<SEAT>[0-9]+):\\s%(PLYR)s:\\sbet\\s(€|$|£)(?P<BET>[,.\\d]+)\\sand\\swon\\s(€|$|£)[\\.0-9]+\\W\\snet\\sresult:\\s(€|$|£)(?P<POT>[,.\\d]+)\" %  substitutions, re.MULTILINE)\n",
    "   \n",
    "substitutions = {\n",
    "                     'LEGAL_ISO' : \"USD|EUR|GBP|CAD|FPP|SC|INR|CNY\",      # legal ISO currency codes\n",
    "                            'LS' : u\"\\$|\\xe2\\x82\\xac|\\u20ac|\\£|\\u20b9|\\¥|\", # legal currency symbols - Euro(cp1252, utf-8)\n",
    "                           'PLYR': r'\\s?(?P<PNAME>.+?)',\n",
    "                            'CUR': u\"(\\$|\\xe2\\x82\\xac|\\u20ac||\\£|\\u20b9|\\¥|)\",\n",
    "                          'BRKTS': r'(\\(button\\) |\\(small blind\\) |\\(big blind\\) |\\(button blind\\) |\\(button\\) \\(small blind\\) |\\(small blind/button\\) |\\(button\\) \\(big blind\\) )?',\n",
    "                    }\n",
    "\n",
    "for m in re_CollectPot.finditer(hand):\n",
    "            print(m)\n",
    "            print(m.group('PNAME'), m.group('POT'))"
   ]
  },
  {
   "cell_type": "code",
   "execution_count": null,
   "id": "113243ac",
   "metadata": {},
   "outputs": [],
   "source": []
  }
 ],
 "metadata": {
  "kernelspec": {
   "display_name": "Python 3 (ipykernel)",
   "language": "python",
   "name": "python3"
  },
  "language_info": {
   "codemirror_mode": {
    "name": "ipython",
    "version": 3
   },
   "file_extension": ".py",
   "mimetype": "text/x-python",
   "name": "python",
   "nbconvert_exporter": "python",
   "pygments_lexer": "ipython3",
   "version": "3.9.7"
  }
 },
 "nbformat": 4,
 "nbformat_minor": 5
}
