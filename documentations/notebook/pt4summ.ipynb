{
 "cells": [
  {
   "cell_type": "code",
   "execution_count": 38,
   "id": "83dd1205",
   "metadata": {},
   "outputs": [
    {
     "name": "stdout",
     "output_type": "stream",
     "text": [
      "('4', 'PokerStars', 'Omaha Hi', '3407415859', '2022/05/06 18:58:09', '2022/05/06 19:04:09', '€', '0.23', None, None, '0.02', 'Prize Pool: €0.50\\r\\n', '0.50', None, None, None, None, '0', 'STT (3 max) Hyper-Turbo SNG LOTTERY', 'Pot Limit', '3')\n"
     ]
    }
   ],
   "source": [
    "import re\n",
    "\n",
    "\n",
    "test = \" 4 Tournament Summary\\r\\nSite: PokerStars\\r\\nGame: Omaha Hi\\r\\nTournament #: 3407415859\\r\\nStarted: 2022/05/06 18:58:09\\r\\nFinished: 2022/05/06 19:04:09\\r\\nBuyin: €0.23\\r\\nFee: €0.02\\r\\nPrize Pool: €0.50\\r\\nInitial Stack: 0\\r\\nTable Type: STT (3 max) Hyper-Turbo SNG LOTTERY\\r\\nTourney Type: Pot Limit\\r\\nPlayers: 3\\r\\n\\r\\nPlace: 1, Player: jeje_sat, Won: €0.50,\\r\\nPlace: 2, Player: Killer7714, Won: €0.00,\\r\\nPlace: 3, Player: Jcfp12, Won: €0.00,\"\n",
    "\n",
    "substitutions = {\n",
    "                     'LEGAL_ISO' : \"USD|EUR|GBP|CAD|FPP\",      # legal ISO currency codes\n",
    "                            'LS' : u\"\\$|€|\\£|P|SC|\", # legal currency symbols - Euro(cp1252, utf-8)\n",
    "                           'PLYR': r'(?P<PNAME>.+?)',\n",
    "                           'NUM' : u\".,\\d\",\n",
    "                            'CUR': u\"(\\$|€||\\£|)\",\n",
    "                    }\n",
    "\n",
    "re_Identify = re.compile(u\"PokerTracker\")\n",
    "\n",
    "re_TourneyInfo = re.compile(u\"\"\"\n",
    "                        \\s(3|4)\\sTournament\\sSummary\\s+\n",
    "                        Site:\\s(?P<SITE>.+?)\\s+\n",
    "                        Game:\\s(?P<GAME>Holdem|Texas\\sHold\\'em|Omaha|Omaha\\sHi|Omaha\\sHi\\/Lo)\\s+\n",
    "                        Tournament\\s\\#:\\s(?P<TOURNO>[0-9]+)\\s+\n",
    "                        Started:\\s(?P<DATETIME>.+?)\\s+\n",
    "                        Finished:\\s(?P<DATETIME1>.+?)\\s+\n",
    "                        Buyin:\\s(?P<CURRENCY>[%(LS)s]?)(?P<BUYIN>[,.0-9]+)\\s+\n",
    "                        (Bounty:\\s[%(LS)s]?(?P<BOUNTY>[,.0-9]+)\\s+)?\n",
    "                        Fee:\\s[%(LS)s]?(?P<FEE>[,.0-9]+)\\s+\n",
    "                        (Prize\\sPool:\\s[%(LS)s]?(?P<PRIZEPOOL>[,.0-9]+)\\s+)?\n",
    "                        (Rebuy:\\s[%(LS)s]?(?P<REBUYAMT>[,.0-9]+)\\s+)?\n",
    "                        (Addon:\\s[%(LS)s]?(?P<ADDON>[,.0-9]+)\\s+)?\n",
    "                        Initial\\sStack:\\s(?P<STACK>[0-9]+)\\s+\n",
    "                        Table\\sType:\\s(?P<TYPE>.+?)\\s+\n",
    "                        Tourney\\sType:\\s(?P<LIMIT>No\\sLimit|Limit|LIMIT|Pot\\sLimit|N\\/A)\\s+\n",
    "                        Players:\\s(?P<ENTRIES>\\d+)\\s+\n",
    "                        \"\"\" % substitutions ,re.VERBOSE|re.MULTILINE)\n",
    "\n",
    "m = re_TourneyInfo.search(test)\n",
    "print(m.groups())\n"
   ]
  },
  {
   "cell_type": "code",
   "execution_count": 29,
   "id": "fc1f23c3",
   "metadata": {},
   "outputs": [],
   "source": [
    "   "
   ]
  },
  {
   "cell_type": "code",
   "execution_count": null,
   "id": "efaba714",
   "metadata": {},
   "outputs": [],
   "source": []
  },
  {
   "cell_type": "code",
   "execution_count": null,
   "id": "50881f07",
   "metadata": {},
   "outputs": [],
   "source": []
  }
 ],
 "metadata": {
  "kernelspec": {
   "display_name": "Python 3 (ipykernel)",
   "language": "python",
   "name": "python3"
  },
  "language_info": {
   "codemirror_mode": {
    "name": "ipython",
    "version": 3
   },
   "file_extension": ".py",
   "mimetype": "text/x-python",
   "name": "python",
   "nbconvert_exporter": "python",
   "pygments_lexer": "ipython3",
   "version": "3.9.7"
  }
 },
 "nbformat": 4,
 "nbformat_minor": 5
}
